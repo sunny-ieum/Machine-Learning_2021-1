{
 "metadata": {
  "language_info": {
   "codemirror_mode": {
    "name": "ipython",
    "version": 3
   },
   "file_extension": ".py",
   "mimetype": "text/x-python",
   "name": "python",
   "nbconvert_exporter": "python",
   "pygments_lexer": "ipython3",
   "version": "3.9.2-final"
  },
  "orig_nbformat": 2,
  "kernelspec": {
   "name": "python3",
   "display_name": "Python 3.9.2 64-bit",
   "metadata": {
    "interpreter": {
     "hash": "b674c0892b3c64375a5c933dff98129cc6aeb23957d1f1ec6f775041500db805"
    }
   }
  }
 },
 "nbformat": 4,
 "nbformat_minor": 2,
 "cells": [
  {
   "source": [
    "## Wine 데이터셋으로 PCA 적용하기"
   ],
   "cell_type": "markdown",
   "metadata": {}
  },
  {
   "cell_type": "code",
   "execution_count": 18,
   "metadata": {},
   "outputs": [],
   "source": [
    "import numpy as np \n",
    "import pandas as pd \n",
    "import matplotlib.pyplot as plt \n",
    "import seaborn as sns \n",
    "%matplotlib inline"
   ]
  },
  {
   "cell_type": "code",
   "execution_count": 19,
   "metadata": {},
   "outputs": [
    {
     "output_type": "execute_result",
     "data": {
      "text/plain": [
       "   alcohol  malic_acid   ash  alcalinity_of_ash  magnesium  total_phenols  \\\n",
       "0    14.23        1.71  2.43               15.6      127.0           2.80   \n",
       "1    13.20        1.78  2.14               11.2      100.0           2.65   \n",
       "2    13.16        2.36  2.67               18.6      101.0           2.80   \n",
       "3    14.37        1.95  2.50               16.8      113.0           3.85   \n",
       "4    13.24        2.59  2.87               21.0      118.0           2.80   \n",
       "\n",
       "   flavanoids  nonflavanoid_phenols  proanthocyanins  color_intensity   hue  \\\n",
       "0        3.06                  0.28             2.29             5.64  1.04   \n",
       "1        2.76                  0.26             1.28             4.38  1.05   \n",
       "2        3.24                  0.30             2.81             5.68  1.03   \n",
       "3        3.49                  0.24             2.18             7.80  0.86   \n",
       "4        2.69                  0.39             1.82             4.32  1.04   \n",
       "\n",
       "   od280/od315_of_diluted_wines  proline  \n",
       "0                          3.92   1065.0  \n",
       "1                          3.40   1050.0  \n",
       "2                          3.17   1185.0  \n",
       "3                          3.45   1480.0  \n",
       "4                          2.93    735.0  "
      ],
      "text/html": "<div>\n<style scoped>\n    .dataframe tbody tr th:only-of-type {\n        vertical-align: middle;\n    }\n\n    .dataframe tbody tr th {\n        vertical-align: top;\n    }\n\n    .dataframe thead th {\n        text-align: right;\n    }\n</style>\n<table border=\"1\" class=\"dataframe\">\n  <thead>\n    <tr style=\"text-align: right;\">\n      <th></th>\n      <th>alcohol</th>\n      <th>malic_acid</th>\n      <th>ash</th>\n      <th>alcalinity_of_ash</th>\n      <th>magnesium</th>\n      <th>total_phenols</th>\n      <th>flavanoids</th>\n      <th>nonflavanoid_phenols</th>\n      <th>proanthocyanins</th>\n      <th>color_intensity</th>\n      <th>hue</th>\n      <th>od280/od315_of_diluted_wines</th>\n      <th>proline</th>\n    </tr>\n  </thead>\n  <tbody>\n    <tr>\n      <th>0</th>\n      <td>14.23</td>\n      <td>1.71</td>\n      <td>2.43</td>\n      <td>15.6</td>\n      <td>127.0</td>\n      <td>2.80</td>\n      <td>3.06</td>\n      <td>0.28</td>\n      <td>2.29</td>\n      <td>5.64</td>\n      <td>1.04</td>\n      <td>3.92</td>\n      <td>1065.0</td>\n    </tr>\n    <tr>\n      <th>1</th>\n      <td>13.20</td>\n      <td>1.78</td>\n      <td>2.14</td>\n      <td>11.2</td>\n      <td>100.0</td>\n      <td>2.65</td>\n      <td>2.76</td>\n      <td>0.26</td>\n      <td>1.28</td>\n      <td>4.38</td>\n      <td>1.05</td>\n      <td>3.40</td>\n      <td>1050.0</td>\n    </tr>\n    <tr>\n      <th>2</th>\n      <td>13.16</td>\n      <td>2.36</td>\n      <td>2.67</td>\n      <td>18.6</td>\n      <td>101.0</td>\n      <td>2.80</td>\n      <td>3.24</td>\n      <td>0.30</td>\n      <td>2.81</td>\n      <td>5.68</td>\n      <td>1.03</td>\n      <td>3.17</td>\n      <td>1185.0</td>\n    </tr>\n    <tr>\n      <th>3</th>\n      <td>14.37</td>\n      <td>1.95</td>\n      <td>2.50</td>\n      <td>16.8</td>\n      <td>113.0</td>\n      <td>3.85</td>\n      <td>3.49</td>\n      <td>0.24</td>\n      <td>2.18</td>\n      <td>7.80</td>\n      <td>0.86</td>\n      <td>3.45</td>\n      <td>1480.0</td>\n    </tr>\n    <tr>\n      <th>4</th>\n      <td>13.24</td>\n      <td>2.59</td>\n      <td>2.87</td>\n      <td>21.0</td>\n      <td>118.0</td>\n      <td>2.80</td>\n      <td>2.69</td>\n      <td>0.39</td>\n      <td>1.82</td>\n      <td>4.32</td>\n      <td>1.04</td>\n      <td>2.93</td>\n      <td>735.0</td>\n    </tr>\n  </tbody>\n</table>\n</div>"
     },
     "metadata": {},
     "execution_count": 19
    }
   ],
   "source": [
    "from sklearn.datasets import load_wine\n",
    "wine = load_wine()\n",
    "df = pd.DataFrame(wine.data, columns=wine.feature_names)\n",
    "df.head()"
   ]
  },
  {
   "cell_type": "code",
   "execution_count": 20,
   "metadata": {},
   "outputs": [
    {
     "output_type": "execute_result",
     "data": {
      "text/plain": [
       "(178, 13)"
      ]
     },
     "metadata": {},
     "execution_count": 20
    }
   ],
   "source": [
    "df.shape"
   ]
  },
  {
   "cell_type": "code",
   "execution_count": 21,
   "metadata": {},
   "outputs": [
    {
     "output_type": "execute_result",
     "data": {
      "text/plain": [
       "array(['class_0', 'class_1', 'class_2'], dtype='<U7')"
      ]
     },
     "metadata": {},
     "execution_count": 21
    }
   ],
   "source": [
    "wine.target_names"
   ]
  },
  {
   "cell_type": "code",
   "execution_count": 22,
   "metadata": {},
   "outputs": [
    {
     "output_type": "stream",
     "name": "stdout",
     "text": [
      ".. _wine_dataset:\n\nWine recognition dataset\n------------------------\n\n**Data Set Characteristics:**\n\n    :Number of Instances: 178 (50 in each of three classes)\n    :Number of Attributes: 13 numeric, predictive attributes and the class\n    :Attribute Information:\n \t\t- Alcohol\n \t\t- Malic acid\n \t\t- Ash\n\t\t- Alcalinity of ash  \n \t\t- Magnesium\n\t\t- Total phenols\n \t\t- Flavanoids\n \t\t- Nonflavanoid phenols\n \t\t- Proanthocyanins\n\t\t- Color intensity\n \t\t- Hue\n \t\t- OD280/OD315 of diluted wines\n \t\t- Proline\n\n    - class:\n            - class_0\n            - class_1\n            - class_2\n\t\t\n    :Summary Statistics:\n    \n    ============================= ==== ===== ======= =====\n                                   Min   Max   Mean     SD\n    ============================= ==== ===== ======= =====\n    Alcohol:                      11.0  14.8    13.0   0.8\n    Malic Acid:                   0.74  5.80    2.34  1.12\n    Ash:                          1.36  3.23    2.36  0.27\n    Alcalinity of Ash:            10.6  30.0    19.5   3.3\n    Magnesium:                    70.0 162.0    99.7  14.3\n    Total Phenols:                0.98  3.88    2.29  0.63\n    Flavanoids:                   0.34  5.08    2.03  1.00\n    Nonflavanoid Phenols:         0.13  0.66    0.36  0.12\n    Proanthocyanins:              0.41  3.58    1.59  0.57\n    Colour Intensity:              1.3  13.0     5.1   2.3\n    Hue:                          0.48  1.71    0.96  0.23\n    OD280/OD315 of diluted wines: 1.27  4.00    2.61  0.71\n    Proline:                       278  1680     746   315\n    ============================= ==== ===== ======= =====\n\n    :Missing Attribute Values: None\n    :Class Distribution: class_0 (59), class_1 (71), class_2 (48)\n    :Creator: R.A. Fisher\n    :Donor: Michael Marshall (MARSHALL%PLU@io.arc.nasa.gov)\n    :Date: July, 1988\n\nThis is a copy of UCI ML Wine recognition datasets.\nhttps://archive.ics.uci.edu/ml/machine-learning-databases/wine/wine.data\n\nThe data is the results of a chemical analysis of wines grown in the same\nregion in Italy by three different cultivators. There are thirteen different\nmeasurements taken for different constituents found in the three types of\nwine.\n\nOriginal Owners: \n\nForina, M. et al, PARVUS - \nAn Extendible Package for Data Exploration, Classification and Correlation. \nInstitute of Pharmaceutical and Food Analysis and Technologies,\nVia Brigata Salerno, 16147 Genoa, Italy.\n\nCitation:\n\nLichman, M. (2013). UCI Machine Learning Repository\n[https://archive.ics.uci.edu/ml]. Irvine, CA: University of California,\nSchool of Information and Computer Science. \n\n.. topic:: References\n\n  (1) S. Aeberhard, D. Coomans and O. de Vel, \n  Comparison of Classifiers in High Dimensional Settings, \n  Tech. Rep. no. 92-02, (1992), Dept. of Computer Science and Dept. of  \n  Mathematics and Statistics, James Cook University of North Queensland. \n  (Also submitted to Technometrics). \n\n  The data was used with many others for comparing various \n  classifiers. The classes are separable, though only RDA \n  has achieved 100% correct classification. \n  (RDA : 100%, QDA 99.4%, LDA 98.9%, 1NN 96.1% (z-transformed data)) \n  (All results using the leave-one-out technique) \n\n  (2) S. Aeberhard, D. Coomans and O. de Vel, \n  \"THE CLASSIFICATION PERFORMANCE OF RDA\" \n  Tech. Rep. no. 92-01, (1992), Dept. of Computer Science and Dept. of \n  Mathematics and Statistics, James Cook University of North Queensland. \n  (Also submitted to Journal of Chemometrics).\n\n"
     ]
    }
   ],
   "source": [
    "print(wine.DESCR)"
   ]
  },
  {
   "cell_type": "code",
   "execution_count": 23,
   "metadata": {},
   "outputs": [
    {
     "output_type": "execute_result",
     "data": {
      "text/plain": [
       "          alcohol  malic_acid         ash  alcalinity_of_ash   magnesium  \\\n",
       "count  178.000000  178.000000  178.000000         178.000000  178.000000   \n",
       "mean    13.000618    2.336348    2.366517          19.494944   99.741573   \n",
       "std      0.811827    1.117146    0.274344           3.339564   14.282484   \n",
       "min     11.030000    0.740000    1.360000          10.600000   70.000000   \n",
       "25%     12.362500    1.602500    2.210000          17.200000   88.000000   \n",
       "50%     13.050000    1.865000    2.360000          19.500000   98.000000   \n",
       "75%     13.677500    3.082500    2.557500          21.500000  107.000000   \n",
       "max     14.830000    5.800000    3.230000          30.000000  162.000000   \n",
       "\n",
       "       total_phenols  flavanoids  nonflavanoid_phenols  proanthocyanins  \\\n",
       "count     178.000000  178.000000            178.000000       178.000000   \n",
       "mean        2.295112    2.029270              0.361854         1.590899   \n",
       "std         0.625851    0.998859              0.124453         0.572359   \n",
       "min         0.980000    0.340000              0.130000         0.410000   \n",
       "25%         1.742500    1.205000              0.270000         1.250000   \n",
       "50%         2.355000    2.135000              0.340000         1.555000   \n",
       "75%         2.800000    2.875000              0.437500         1.950000   \n",
       "max         3.880000    5.080000              0.660000         3.580000   \n",
       "\n",
       "       color_intensity         hue  od280/od315_of_diluted_wines      proline  \n",
       "count       178.000000  178.000000                    178.000000   178.000000  \n",
       "mean          5.058090    0.957449                      2.611685   746.893258  \n",
       "std           2.318286    0.228572                      0.709990   314.907474  \n",
       "min           1.280000    0.480000                      1.270000   278.000000  \n",
       "25%           3.220000    0.782500                      1.937500   500.500000  \n",
       "50%           4.690000    0.965000                      2.780000   673.500000  \n",
       "75%           6.200000    1.120000                      3.170000   985.000000  \n",
       "max          13.000000    1.710000                      4.000000  1680.000000  "
      ],
      "text/html": "<div>\n<style scoped>\n    .dataframe tbody tr th:only-of-type {\n        vertical-align: middle;\n    }\n\n    .dataframe tbody tr th {\n        vertical-align: top;\n    }\n\n    .dataframe thead th {\n        text-align: right;\n    }\n</style>\n<table border=\"1\" class=\"dataframe\">\n  <thead>\n    <tr style=\"text-align: right;\">\n      <th></th>\n      <th>alcohol</th>\n      <th>malic_acid</th>\n      <th>ash</th>\n      <th>alcalinity_of_ash</th>\n      <th>magnesium</th>\n      <th>total_phenols</th>\n      <th>flavanoids</th>\n      <th>nonflavanoid_phenols</th>\n      <th>proanthocyanins</th>\n      <th>color_intensity</th>\n      <th>hue</th>\n      <th>od280/od315_of_diluted_wines</th>\n      <th>proline</th>\n    </tr>\n  </thead>\n  <tbody>\n    <tr>\n      <th>count</th>\n      <td>178.000000</td>\n      <td>178.000000</td>\n      <td>178.000000</td>\n      <td>178.000000</td>\n      <td>178.000000</td>\n      <td>178.000000</td>\n      <td>178.000000</td>\n      <td>178.000000</td>\n      <td>178.000000</td>\n      <td>178.000000</td>\n      <td>178.000000</td>\n      <td>178.000000</td>\n      <td>178.000000</td>\n    </tr>\n    <tr>\n      <th>mean</th>\n      <td>13.000618</td>\n      <td>2.336348</td>\n      <td>2.366517</td>\n      <td>19.494944</td>\n      <td>99.741573</td>\n      <td>2.295112</td>\n      <td>2.029270</td>\n      <td>0.361854</td>\n      <td>1.590899</td>\n      <td>5.058090</td>\n      <td>0.957449</td>\n      <td>2.611685</td>\n      <td>746.893258</td>\n    </tr>\n    <tr>\n      <th>std</th>\n      <td>0.811827</td>\n      <td>1.117146</td>\n      <td>0.274344</td>\n      <td>3.339564</td>\n      <td>14.282484</td>\n      <td>0.625851</td>\n      <td>0.998859</td>\n      <td>0.124453</td>\n      <td>0.572359</td>\n      <td>2.318286</td>\n      <td>0.228572</td>\n      <td>0.709990</td>\n      <td>314.907474</td>\n    </tr>\n    <tr>\n      <th>min</th>\n      <td>11.030000</td>\n      <td>0.740000</td>\n      <td>1.360000</td>\n      <td>10.600000</td>\n      <td>70.000000</td>\n      <td>0.980000</td>\n      <td>0.340000</td>\n      <td>0.130000</td>\n      <td>0.410000</td>\n      <td>1.280000</td>\n      <td>0.480000</td>\n      <td>1.270000</td>\n      <td>278.000000</td>\n    </tr>\n    <tr>\n      <th>25%</th>\n      <td>12.362500</td>\n      <td>1.602500</td>\n      <td>2.210000</td>\n      <td>17.200000</td>\n      <td>88.000000</td>\n      <td>1.742500</td>\n      <td>1.205000</td>\n      <td>0.270000</td>\n      <td>1.250000</td>\n      <td>3.220000</td>\n      <td>0.782500</td>\n      <td>1.937500</td>\n      <td>500.500000</td>\n    </tr>\n    <tr>\n      <th>50%</th>\n      <td>13.050000</td>\n      <td>1.865000</td>\n      <td>2.360000</td>\n      <td>19.500000</td>\n      <td>98.000000</td>\n      <td>2.355000</td>\n      <td>2.135000</td>\n      <td>0.340000</td>\n      <td>1.555000</td>\n      <td>4.690000</td>\n      <td>0.965000</td>\n      <td>2.780000</td>\n      <td>673.500000</td>\n    </tr>\n    <tr>\n      <th>75%</th>\n      <td>13.677500</td>\n      <td>3.082500</td>\n      <td>2.557500</td>\n      <td>21.500000</td>\n      <td>107.000000</td>\n      <td>2.800000</td>\n      <td>2.875000</td>\n      <td>0.437500</td>\n      <td>1.950000</td>\n      <td>6.200000</td>\n      <td>1.120000</td>\n      <td>3.170000</td>\n      <td>985.000000</td>\n    </tr>\n    <tr>\n      <th>max</th>\n      <td>14.830000</td>\n      <td>5.800000</td>\n      <td>3.230000</td>\n      <td>30.000000</td>\n      <td>162.000000</td>\n      <td>3.880000</td>\n      <td>5.080000</td>\n      <td>0.660000</td>\n      <td>3.580000</td>\n      <td>13.000000</td>\n      <td>1.710000</td>\n      <td>4.000000</td>\n      <td>1680.000000</td>\n    </tr>\n  </tbody>\n</table>\n</div>"
     },
     "metadata": {},
     "execution_count": 23
    }
   ],
   "source": [
    "df.describe()"
   ]
  },
  {
   "source": [
    "### PCA 변환"
   ],
   "cell_type": "markdown",
   "metadata": {}
  },
  {
   "cell_type": "code",
   "execution_count": 24,
   "metadata": {},
   "outputs": [],
   "source": [
    "from sklearn.preprocessing import StandardScaler\n",
    "scaler = StandardScaler()\n",
    "wine_std = scaler.fit_transform(wine.data)"
   ]
  },
  {
   "cell_type": "code",
   "execution_count": 25,
   "metadata": {},
   "outputs": [],
   "source": [
    "from sklearn.decomposition import PCA\n",
    "\n",
    "pca = PCA(n_components=2)"
   ]
  },
  {
   "cell_type": "code",
   "execution_count": 26,
   "metadata": {},
   "outputs": [
    {
     "output_type": "execute_result",
     "data": {
      "text/plain": [
       "array([[ 3.31675081, -1.44346263],\n",
       "       [ 2.20946492,  0.33339289],\n",
       "       [ 2.51674015, -1.0311513 ],\n",
       "       [ 3.75706561, -2.75637191],\n",
       "       [ 1.00890849, -0.86983082]])"
      ]
     },
     "metadata": {},
     "execution_count": 26
    }
   ],
   "source": [
    "wine_pca = pca.fit_transform(wine_std)\n",
    "wine_pca[:5,:]"
   ]
  },
  {
   "source": [
    "###  시각화"
   ],
   "cell_type": "markdown",
   "metadata": {}
  },
  {
   "cell_type": "code",
   "execution_count": 28,
   "metadata": {},
   "outputs": [
    {
     "output_type": "execute_result",
     "data": {
      "text/plain": [
       "        PC1       PC2  class\n",
       "0  3.316751 -1.443463      0\n",
       "1  2.209465  0.333393      0\n",
       "2  2.516740 -1.031151      0\n",
       "3  3.757066 -2.756372      0\n",
       "4  1.008908 -0.869831      0"
      ],
      "text/html": "<div>\n<style scoped>\n    .dataframe tbody tr th:only-of-type {\n        vertical-align: middle;\n    }\n\n    .dataframe tbody tr th {\n        vertical-align: top;\n    }\n\n    .dataframe thead th {\n        text-align: right;\n    }\n</style>\n<table border=\"1\" class=\"dataframe\">\n  <thead>\n    <tr style=\"text-align: right;\">\n      <th></th>\n      <th>PC1</th>\n      <th>PC2</th>\n      <th>class</th>\n    </tr>\n  </thead>\n  <tbody>\n    <tr>\n      <th>0</th>\n      <td>3.316751</td>\n      <td>-1.443463</td>\n      <td>0</td>\n    </tr>\n    <tr>\n      <th>1</th>\n      <td>2.209465</td>\n      <td>0.333393</td>\n      <td>0</td>\n    </tr>\n    <tr>\n      <th>2</th>\n      <td>2.516740</td>\n      <td>-1.031151</td>\n      <td>0</td>\n    </tr>\n    <tr>\n      <th>3</th>\n      <td>3.757066</td>\n      <td>-2.756372</td>\n      <td>0</td>\n    </tr>\n    <tr>\n      <th>4</th>\n      <td>1.008908</td>\n      <td>-0.869831</td>\n      <td>0</td>\n    </tr>\n  </tbody>\n</table>\n</div>"
     },
     "metadata": {},
     "execution_count": 28
    }
   ],
   "source": [
    "df_pca = pd.DataFrame(wine_pca, columns=['PC1', 'PC2'])\n",
    "df_pca['class'] = wine.target\n",
    "df_pca.head()"
   ]
  },
  {
   "cell_type": "code",
   "execution_count": 30,
   "metadata": {},
   "outputs": [
    {
     "output_type": "display_data",
     "data": {
      "text/plain": "<Figure size 432x288 with 1 Axes>",
      "image/svg+xml": "<?xml version=\"1.0\" encoding=\"utf-8\" standalone=\"no\"?>\r\n<!DOCTYPE svg PUBLIC \"-//W3C//DTD SVG 1.1//EN\"\r\n  \"http://www.w3.org/Graphics/SVG/1.1/DTD/svg11.dtd\">\r\n<!-- Created with matplotlib (https://matplotlib.org/) -->\r\n<svg height=\"262.19625pt\" version=\"1.1\" viewBox=\"0 0 384.620313 262.19625\" width=\"384.620313pt\" xmlns=\"http://www.w3.org/2000/svg\" xmlns:xlink=\"http://www.w3.org/1999/xlink\">\r\n <metadata>\r\n  <rdf:RDF xmlns:cc=\"http://creativecommons.org/ns#\" xmlns:dc=\"http://purl.org/dc/elements/1.1/\" xmlns:rdf=\"http://www.w3.org/1999/02/22-rdf-syntax-ns#\">\r\n   <cc:Work>\r\n    <dc:type rdf:resource=\"http://purl.org/dc/dcmitype/StillImage\"/>\r\n    <dc:date>2021-04-02T19:23:59.532519</dc:date>\r\n    <dc:format>image/svg+xml</dc:format>\r\n    <dc:creator>\r\n     <cc:Agent>\r\n      <dc:title>Matplotlib v3.3.4, https://matplotlib.org/</dc:title>\r\n     </cc:Agent>\r\n    </dc:creator>\r\n   </cc:Work>\r\n  </rdf:RDF>\r\n </metadata>\r\n <defs>\r\n  <style type=\"text/css\">*{stroke-linecap:butt;stroke-linejoin:round;}</style>\r\n </defs>\r\n <g id=\"figure_1\">\r\n  <g id=\"patch_1\">\r\n   <path d=\"M 0 262.19625 \r\nL 384.620313 262.19625 \r\nL 384.620313 0 \r\nL 0 0 \r\nz\r\n\" style=\"fill:none;\"/>\r\n  </g>\r\n  <g id=\"axes_1\">\r\n   <g id=\"patch_2\">\r\n    <path d=\"M 42.620313 224.64 \r\nL 377.420313 224.64 \r\nL 377.420313 7.2 \r\nL 42.620313 7.2 \r\nz\r\n\" style=\"fill:#ffffff;\"/>\r\n   </g>\r\n   <g id=\"PathCollection_1\">\r\n    <defs>\r\n     <path d=\"M 0 -3 \r\nL -3 3 \r\nL 3 3 \r\nz\r\n\" id=\"m512a11ad6c\" style=\"stroke:#1f77b4;\"/>\r\n    </defs>\r\n    <g clip-path=\"url(#pda14b70d5d)\">\r\n     <use style=\"fill:#1f77b4;stroke:#1f77b4;\" x=\"326.924423\" xlink:href=\"#m512a11ad6c\" y=\"159.319626\"/>\r\n     <use style=\"fill:#1f77b4;stroke:#1f77b4;\" x=\"287.70634\" xlink:href=\"#m512a11ad6c\" y=\"111.770974\"/>\r\n     <use style=\"fill:#1f77b4;stroke:#1f77b4;\" x=\"298.589478\" xlink:href=\"#m512a11ad6c\" y=\"148.286175\"/>\r\n     <use style=\"fill:#1f77b4;stroke:#1f77b4;\" x=\"342.519584\" xlink:href=\"#m512a11ad6c\" y=\"194.453077\"/>\r\n     <use style=\"fill:#1f77b4;stroke:#1f77b4;\" x=\"245.184782\" xlink:href=\"#m512a11ad6c\" y=\"143.969239\"/>\r\n     <use style=\"fill:#1f77b4;stroke:#1f77b4;\" x=\"317.48558\" xlink:href=\"#m512a11ad6c\" y=\"177.488019\"/>\r\n     <use style=\"fill:#1f77b4;stroke:#1f77b4;\" x=\"296.19342\" xlink:href=\"#m512a11ad6c\" y=\"152.131556\"/>\r\n     <use style=\"fill:#1f77b4;stroke:#1f77b4;\" x=\"282.392616\" xlink:href=\"#m512a11ad6c\" y=\"163.748417\"/>\r\n     <use style=\"fill:#1f77b4;stroke:#1f77b4;\" x=\"298.38172\" xlink:href=\"#m512a11ad6c\" y=\"145.260145\"/>\r\n     <use style=\"fill:#1f77b4;stroke:#1f77b4;\" x=\"306.979628\" xlink:href=\"#m512a11ad6c\" y=\"141.817919\"/>\r\n     <use style=\"fill:#1f77b4;stroke:#1f77b4;\" x=\"332.69709\" xlink:href=\"#m512a11ad6c\" y=\"155.543004\"/>\r\n     <use style=\"fill:#1f77b4;stroke:#1f77b4;\" x=\"271.601255\" xlink:href=\"#m512a11ad6c\" y=\"137.069078\"/>\r\n     <use style=\"fill:#1f77b4;stroke:#1f77b4;\" x=\"284.306101\" xlink:href=\"#m512a11ad6c\" y=\"138.774468\"/>\r\n     <use style=\"fill:#1f77b4;stroke:#1f77b4;\" x=\"331.93277\" xlink:href=\"#m512a11ad6c\" y=\"150.948222\"/>\r\n     <use style=\"fill:#1f77b4;stroke:#1f77b4;\" x=\"362.202131\" xlink:href=\"#m512a11ad6c\" y=\"176.780872\"/>\r\n     <use style=\"fill:#1f77b4;stroke:#1f77b4;\" x=\"291.096687\" xlink:href=\"#m512a11ad6c\" y=\"165.18245\"/>\r\n     <use style=\"fill:#1f77b4;stroke:#1f77b4;\" x=\"286.377816\" xlink:href=\"#m512a11ad6c\" y=\"182.971256\"/>\r\n     <use style=\"fill:#1f77b4;stroke:#1f77b4;\" x=\"276.709208\" xlink:href=\"#m512a11ad6c\" y=\"164.347997\"/>\r\n     <use style=\"fill:#1f77b4;stroke:#1f77b4;\" x=\"334.901817\" xlink:href=\"#m512a11ad6c\" y=\"188.083441\"/>\r\n     <use style=\"fill:#1f77b4;stroke:#1f77b4;\" x=\"283.281093\" xlink:href=\"#m512a11ad6c\" y=\"149.088619\"/>\r\n     <use style=\"fill:#1f77b4;stroke:#1f77b4;\" x=\"320.111791\" xlink:href=\"#m512a11ad6c\" y=\"141.749933\"/>\r\n     <use style=\"fill:#1f77b4;stroke:#1f77b4;\" x=\"247.935416\" xlink:href=\"#m512a11ad6c\" y=\"127.161625\"/>\r\n     <use style=\"fill:#1f77b4;stroke:#1f77b4;\" x=\"299.244146\" xlink:href=\"#m512a11ad6c\" y=\"118.234913\"/>\r\n     <use style=\"fill:#1f77b4;stroke:#1f77b4;\" x=\"267.713591\" xlink:href=\"#m512a11ad6c\" y=\"106.876944\"/>\r\n     <use style=\"fill:#1f77b4;stroke:#1f77b4;\" x=\"271.842913\" xlink:href=\"#m512a11ad6c\" y=\"112.205663\"/>\r\n     <use style=\"fill:#1f77b4;stroke:#1f77b4;\" x=\"244.517879\" xlink:href=\"#m512a11ad6c\" y=\"145.864824\"/>\r\n     <use style=\"fill:#1f77b4;stroke:#1f77b4;\" x=\"272.328204\" xlink:href=\"#m512a11ad6c\" y=\"139.054613\"/>\r\n     <use style=\"fill:#1f77b4;stroke:#1f77b4;\" x=\"253.207555\" xlink:href=\"#m512a11ad6c\" y=\"118.289331\"/>\r\n     <use style=\"fill:#1f77b4;stroke:#1f77b4;\" x=\"286.960483\" xlink:href=\"#m512a11ad6c\" y=\"139.14545\"/>\r\n     <use style=\"fill:#1f77b4;stroke:#1f77b4;\" x=\"289.358389\" xlink:href=\"#m512a11ad6c\" y=\"125.816089\"/>\r\n     <use style=\"fill:#1f77b4;stroke:#1f77b4;\" x=\"298.004365\" xlink:href=\"#m512a11ad6c\" y=\"153.89728\"/>\r\n     <use style=\"fill:#1f77b4;stroke:#1f77b4;\" x=\"304.280154\" xlink:href=\"#m512a11ad6c\" y=\"160.079905\"/>\r\n     <use style=\"fill:#1f77b4;stroke:#1f77b4;\" x=\"267.132406\" xlink:href=\"#m512a11ad6c\" y=\"122.102939\"/>\r\n     <use style=\"fill:#1f77b4;stroke:#1f77b4;\" x=\"276.840953\" xlink:href=\"#m512a11ad6c\" y=\"164.393263\"/>\r\n     <use style=\"fill:#1f77b4;stroke:#1f77b4;\" x=\"259.404486\" xlink:href=\"#m512a11ad6c\" y=\"139.369289\"/>\r\n     <use style=\"fill:#1f77b4;stroke:#1f77b4;\" x=\"276.881166\" xlink:href=\"#m512a11ad6c\" y=\"125.421352\"/>\r\n     <use style=\"fill:#1f77b4;stroke:#1f77b4;\" x=\"258.50039\" xlink:href=\"#m512a11ad6c\" y=\"138.317769\"/>\r\n     <use style=\"fill:#1f77b4;stroke:#1f77b4;\" x=\"249.197627\" xlink:href=\"#m512a11ad6c\" y=\"123.746145\"/>\r\n     <use style=\"fill:#1f77b4;stroke:#1f77b4;\" x=\"262.656089\" xlink:href=\"#m512a11ad6c\" y=\"100.102568\"/>\r\n     <use style=\"fill:#1f77b4;stroke:#1f77b4;\" x=\"299.052074\" xlink:href=\"#m512a11ad6c\" y=\"168.940898\"/>\r\n     <use style=\"fill:#1f77b4;stroke:#1f77b4;\" x=\"301.116754\" xlink:href=\"#m512a11ad6c\" y=\"141.555099\"/>\r\n     <use style=\"fill:#1f77b4;stroke:#1f77b4;\" x=\"233.127486\" xlink:href=\"#m512a11ad6c\" y=\"125.240722\"/>\r\n     <use style=\"fill:#1f77b4;stroke:#1f77b4;\" x=\"318.213533\" xlink:href=\"#m512a11ad6c\" y=\"151.624958\"/>\r\n     <use style=\"fill:#1f77b4;stroke:#1f77b4;\" x=\"225.821671\" xlink:href=\"#m512a11ad6c\" y=\"129.543227\"/>\r\n     <use style=\"fill:#1f77b4;stroke:#1f77b4;\" x=\"283.877172\" xlink:href=\"#m512a11ad6c\" y=\"118.792369\"/>\r\n     <use style=\"fill:#1f77b4;stroke:#1f77b4;\" x=\"249.692022\" xlink:href=\"#m512a11ad6c\" y=\"168.247959\"/>\r\n     <use style=\"fill:#1f77b4;stroke:#1f77b4;\" x=\"306.022372\" xlink:href=\"#m512a11ad6c\" y=\"152.572683\"/>\r\n     <use style=\"fill:#1f77b4;stroke:#1f77b4;\" x=\"309.377834\" xlink:href=\"#m512a11ad6c\" y=\"137.986447\"/>\r\n     <use style=\"fill:#1f77b4;stroke:#1f77b4;\" x=\"280.636368\" xlink:href=\"#m512a11ad6c\" y=\"154.063075\"/>\r\n     <use style=\"fill:#1f77b4;stroke:#1f77b4;\" x=\"305.345543\" xlink:href=\"#m512a11ad6c\" y=\"167.575213\"/>\r\n     <use style=\"fill:#1f77b4;stroke:#1f77b4;\" x=\"323.317668\" xlink:href=\"#m512a11ad6c\" y=\"125.161273\"/>\r\n     <use style=\"fill:#1f77b4;stroke:#1f77b4;\" x=\"310.710286\" xlink:href=\"#m512a11ad6c\" y=\"140.636228\"/>\r\n     <use style=\"fill:#1f77b4;stroke:#1f77b4;\" x=\"333.613277\" xlink:href=\"#m512a11ad6c\" y=\"163.849324\"/>\r\n     <use style=\"fill:#1f77b4;stroke:#1f77b4;\" x=\"288.249176\" xlink:href=\"#m512a11ad6c\" y=\"170.872061\"/>\r\n     <use style=\"fill:#1f77b4;stroke:#1f77b4;\" x=\"285.493513\" xlink:href=\"#m512a11ad6c\" y=\"147.900838\"/>\r\n     <use style=\"fill:#1f77b4;stroke:#1f77b4;\" x=\"296.910278\" xlink:href=\"#m512a11ad6c\" y=\"156.256828\"/>\r\n     <use style=\"fill:#1f77b4;stroke:#1f77b4;\" x=\"306.550704\" xlink:href=\"#m512a11ad6c\" y=\"159.134611\"/>\r\n     <use style=\"fill:#1f77b4;stroke:#1f77b4;\" x=\"286.44106\" xlink:href=\"#m512a11ad6c\" y=\"153.131034\"/>\r\n     <use style=\"fill:#1f77b4;stroke:#1f77b4;\" x=\"320.642272\" xlink:href=\"#m512a11ad6c\" y=\"167.029623\"/>\r\n    </g>\r\n   </g>\r\n   <g id=\"PathCollection_2\">\r\n    <defs>\r\n     <path d=\"M -3 3 \r\nL 3 3 \r\nL 3 -3 \r\nL -3 -3 \r\nz\r\n\" id=\"ma2bd60d8b0\" style=\"stroke:#ff7f0e;\"/>\r\n    </defs>\r\n    <g clip-path=\"url(#pda14b70d5d)\">\r\n     <use style=\"fill:#ff7f0e;stroke:#ff7f0e;\" x=\"176.562341\" xlink:href=\"#ma2bd60d8b0\" y=\"38.446081\"/>\r\n     <use style=\"fill:#ff7f0e;stroke:#ff7f0e;\" x=\"154.819168\" xlink:href=\"#ma2bd60d8b0\" y=\"83.725141\"/>\r\n     <use style=\"fill:#ff7f0e;stroke:#ff7f0e;\" x=\"144.414374\" xlink:href=\"#ma2bd60d8b0\" y=\"98.482193\"/>\r\n     <use style=\"fill:#ff7f0e;stroke:#ff7f0e;\" x=\"210.53509\" xlink:href=\"#ma2bd60d8b0\" y=\"86.900412\"/>\r\n     <use style=\"fill:#ff7f0e;stroke:#ff7f0e;\" x=\"282.067644\" xlink:href=\"#ma2bd60d8b0\" y=\"69.178697\"/>\r\n     <use style=\"fill:#ff7f0e;stroke:#ff7f0e;\" x=\"187.857248\" xlink:href=\"#ma2bd60d8b0\" y=\"69.632916\"/>\r\n     <use style=\"fill:#ff7f0e;stroke:#ff7f0e;\" x=\"241.335508\" xlink:href=\"#ma2bd60d8b0\" y=\"100.250297\"/>\r\n     <use style=\"fill:#ff7f0e;stroke:#ff7f0e;\" x=\"289.089148\" xlink:href=\"#ma2bd60d8b0\" y=\"70.260875\"/>\r\n     <use style=\"fill:#ff7f0e;stroke:#ff7f0e;\" x=\"215.946185\" xlink:href=\"#ma2bd60d8b0\" y=\"55.74214\"/>\r\n     <use style=\"fill:#ff7f0e;stroke:#ff7f0e;\" x=\"180.662953\" xlink:href=\"#ma2bd60d8b0\" y=\"114.791614\"/>\r\n     <use style=\"fill:#ff7f0e;stroke:#ff7f0e;\" x=\"279.42399\" xlink:href=\"#ma2bd60d8b0\" y=\"83.14071\"/>\r\n     <use style=\"fill:#ff7f0e;stroke:#ff7f0e;\" x=\"153.765969\" xlink:href=\"#ma2bd60d8b0\" y=\"97.01042\"/>\r\n     <use style=\"fill:#ff7f0e;stroke:#ff7f0e;\" x=\"268.163171\" xlink:href=\"#ma2bd60d8b0\" y=\"95.09095\"/>\r\n     <use style=\"fill:#ff7f0e;stroke:#ff7f0e;\" x=\"183.759661\" xlink:href=\"#ma2bd60d8b0\" y=\"92.229418\"/>\r\n     <use style=\"fill:#ff7f0e;stroke:#ff7f0e;\" x=\"300.200547\" xlink:href=\"#ma2bd60d8b0\" y=\"127.655481\"/>\r\n     <use style=\"fill:#ff7f0e;stroke:#ff7f0e;\" x=\"274.357311\" xlink:href=\"#ma2bd60d8b0\" y=\"86.228949\"/>\r\n     <use style=\"fill:#ff7f0e;stroke:#ff7f0e;\" x=\"178.708297\" xlink:href=\"#ma2bd60d8b0\" y=\"55.288423\"/>\r\n     <use style=\"fill:#ff7f0e;stroke:#ff7f0e;\" x=\"222.556298\" xlink:href=\"#ma2bd60d8b0\" y=\"63.054019\"/>\r\n     <use style=\"fill:#ff7f0e;stroke:#ff7f0e;\" x=\"157.833367\" xlink:href=\"#ma2bd60d8b0\" y=\"83.674076\"/>\r\n     <use style=\"fill:#ff7f0e;stroke:#ff7f0e;\" x=\"254.181799\" xlink:href=\"#ma2bd60d8b0\" y=\"100.064635\"/>\r\n     <use style=\"fill:#ff7f0e;stroke:#ff7f0e;\" x=\"222.773623\" xlink:href=\"#ma2bd60d8b0\" y=\"93.208887\"/>\r\n     <use style=\"fill:#ff7f0e;stroke:#ff7f0e;\" x=\"236.441989\" xlink:href=\"#ma2bd60d8b0\" y=\"30.376132\"/>\r\n     <use style=\"fill:#ff7f0e;stroke:#ff7f0e;\" x=\"246.093949\" xlink:href=\"#ma2bd60d8b0\" y=\"81.871577\"/>\r\n     <use style=\"fill:#ff7f0e;stroke:#ff7f0e;\" x=\"191.923403\" xlink:href=\"#ma2bd60d8b0\" y=\"56.970494\"/>\r\n     <use style=\"fill:#ff7f0e;stroke:#ff7f0e;\" x=\"119.525031\" xlink:href=\"#ma2bd60d8b0\" y=\"118.352583\"/>\r\n     <use style=\"fill:#ff7f0e;stroke:#ff7f0e;\" x=\"239.036594\" xlink:href=\"#ma2bd60d8b0\" y=\"81.257145\"/>\r\n     <use style=\"fill:#ff7f0e;stroke:#ff7f0e;\" x=\"237.357221\" xlink:href=\"#ma2bd60d8b0\" y=\"66.460044\"/>\r\n     <use style=\"fill:#ff7f0e;stroke:#ff7f0e;\" x=\"180.874502\" xlink:href=\"#ma2bd60d8b0\" y=\"60.915269\"/>\r\n     <use style=\"fill:#ff7f0e;stroke:#ff7f0e;\" x=\"189.686181\" xlink:href=\"#ma2bd60d8b0\" y=\"57.19148\"/>\r\n     <use style=\"fill:#ff7f0e;stroke:#ff7f0e;\" x=\"169.955816\" xlink:href=\"#ma2bd60d8b0\" y=\"72.464435\"/>\r\n     <use style=\"fill:#ff7f0e;stroke:#ff7f0e;\" x=\"189.768344\" xlink:href=\"#ma2bd60d8b0\" y=\"49.576799\"/>\r\n     <use style=\"fill:#ff7f0e;stroke:#ff7f0e;\" x=\"161.661784\" xlink:href=\"#ma2bd60d8b0\" y=\"64.014851\"/>\r\n     <use style=\"fill:#ff7f0e;stroke:#ff7f0e;\" x=\"154.03988\" xlink:href=\"#ma2bd60d8b0\" y=\"71.127309\"/>\r\n     <use style=\"fill:#ff7f0e;stroke:#ff7f0e;\" x=\"141.003394\" xlink:href=\"#ma2bd60d8b0\" y=\"78.960471\"/>\r\n     <use style=\"fill:#ff7f0e;stroke:#ff7f0e;\" x=\"235.896621\" xlink:href=\"#ma2bd60d8b0\" y=\"58.798518\"/>\r\n     <use style=\"fill:#ff7f0e;stroke:#ff7f0e;\" x=\"243.362405\" xlink:href=\"#ma2bd60d8b0\" y=\"61.190949\"/>\r\n     <use style=\"fill:#ff7f0e;stroke:#ff7f0e;\" x=\"299.550199\" xlink:href=\"#ma2bd60d8b0\" y=\"125.22234\"/>\r\n     <use style=\"fill:#ff7f0e;stroke:#ff7f0e;\" x=\"190.185225\" xlink:href=\"#ma2bd60d8b0\" y=\"110.820094\"/>\r\n     <use style=\"fill:#ff7f0e;stroke:#ff7f0e;\" x=\"245.968986\" xlink:href=\"#ma2bd60d8b0\" y=\"52.037935\"/>\r\n     <use style=\"fill:#ff7f0e;stroke:#ff7f0e;\" x=\"289.209649\" xlink:href=\"#ma2bd60d8b0\" y=\"82.35241\"/>\r\n     <use style=\"fill:#ff7f0e;stroke:#ff7f0e;\" x=\"259.398376\" xlink:href=\"#ma2bd60d8b0\" y=\"62.725278\"/>\r\n     <use style=\"fill:#ff7f0e;stroke:#ff7f0e;\" x=\"237.704857\" xlink:href=\"#ma2bd60d8b0\" y=\"57.08542\"/>\r\n     <use style=\"fill:#ff7f0e;stroke:#ff7f0e;\" x=\"189.987622\" xlink:href=\"#ma2bd60d8b0\" y=\"59.328448\"/>\r\n     <use style=\"fill:#ff7f0e;stroke:#ff7f0e;\" x=\"203.742566\" xlink:href=\"#ma2bd60d8b0\" y=\"89.530995\"/>\r\n     <use style=\"fill:#ff7f0e;stroke:#ff7f0e;\" x=\"186.082296\" xlink:href=\"#ma2bd60d8b0\" y=\"48.976809\"/>\r\n     <use style=\"fill:#ff7f0e;stroke:#ff7f0e;\" x=\"223.347541\" xlink:href=\"#ma2bd60d8b0\" y=\"64.53051\"/>\r\n     <use style=\"fill:#ff7f0e;stroke:#ff7f0e;\" x=\"146.672309\" xlink:href=\"#ma2bd60d8b0\" y=\"74.73793\"/>\r\n     <use style=\"fill:#ff7f0e;stroke:#ff7f0e;\" x=\"196.478517\" xlink:href=\"#ma2bd60d8b0\" y=\"62.640676\"/>\r\n     <use style=\"fill:#ff7f0e;stroke:#ff7f0e;\" x=\"152.049732\" xlink:href=\"#ma2bd60d8b0\" y=\"84.417158\"/>\r\n     <use style=\"fill:#ff7f0e;stroke:#ff7f0e;\" x=\"212.374321\" xlink:href=\"#ma2bd60d8b0\" y=\"58.977733\"/>\r\n     <use style=\"fill:#ff7f0e;stroke:#ff7f0e;\" x=\"265.350727\" xlink:href=\"#ma2bd60d8b0\" y=\"81.568532\"/>\r\n     <use style=\"fill:#ff7f0e;stroke:#ff7f0e;\" x=\"259.765069\" xlink:href=\"#ma2bd60d8b0\" y=\"82.74136\"/>\r\n     <use style=\"fill:#ff7f0e;stroke:#ff7f0e;\" x=\"199.579899\" xlink:href=\"#ma2bd60d8b0\" y=\"69.030568\"/>\r\n     <use style=\"fill:#ff7f0e;stroke:#ff7f0e;\" x=\"163.295991\" xlink:href=\"#ma2bd60d8b0\" y=\"100.270077\"/>\r\n     <use style=\"fill:#ff7f0e;stroke:#ff7f0e;\" x=\"193.262384\" xlink:href=\"#ma2bd60d8b0\" y=\"59.963009\"/>\r\n     <use style=\"fill:#ff7f0e;stroke:#ff7f0e;\" x=\"191.947874\" xlink:href=\"#ma2bd60d8b0\" y=\"68.803724\"/>\r\n     <use style=\"fill:#ff7f0e;stroke:#ff7f0e;\" x=\"226.525263\" xlink:href=\"#ma2bd60d8b0\" y=\"17.083636\"/>\r\n     <use style=\"fill:#ff7f0e;stroke:#ff7f0e;\" x=\"200.49418\" xlink:href=\"#ma2bd60d8b0\" y=\"45.189435\"/>\r\n     <use style=\"fill:#ff7f0e;stroke:#ff7f0e;\" x=\"205.65324\" xlink:href=\"#ma2bd60d8b0\" y=\"69.074616\"/>\r\n     <use style=\"fill:#ff7f0e;stroke:#ff7f0e;\" x=\"123.278103\" xlink:href=\"#ma2bd60d8b0\" y=\"87.051475\"/>\r\n     <use style=\"fill:#ff7f0e;stroke:#ff7f0e;\" x=\"189.932447\" xlink:href=\"#ma2bd60d8b0\" y=\"61.227527\"/>\r\n     <use style=\"fill:#ff7f0e;stroke:#ff7f0e;\" x=\"235.647135\" xlink:href=\"#ma2bd60d8b0\" y=\"82.988889\"/>\r\n     <use style=\"fill:#ff7f0e;stroke:#ff7f0e;\" x=\"256.781173\" xlink:href=\"#ma2bd60d8b0\" y=\"127.471864\"/>\r\n     <use style=\"fill:#ff7f0e;stroke:#ff7f0e;\" x=\"167.760738\" xlink:href=\"#ma2bd60d8b0\" y=\"102.924816\"/>\r\n     <use style=\"fill:#ff7f0e;stroke:#ff7f0e;\" x=\"193.075973\" xlink:href=\"#ma2bd60d8b0\" y=\"104.147177\"/>\r\n     <use style=\"fill:#ff7f0e;stroke:#ff7f0e;\" x=\"244.10685\" xlink:href=\"#ma2bd60d8b0\" y=\"82.009103\"/>\r\n     <use style=\"fill:#ff7f0e;stroke:#ff7f0e;\" x=\"206.022224\" xlink:href=\"#ma2bd60d8b0\" y=\"64.229024\"/>\r\n     <use style=\"fill:#ff7f0e;stroke:#ff7f0e;\" x=\"210.814197\" xlink:href=\"#ma2bd60d8b0\" y=\"86.794015\"/>\r\n     <use style=\"fill:#ff7f0e;stroke:#ff7f0e;\" x=\"152.882558\" xlink:href=\"#ma2bd60d8b0\" y=\"88.362647\"/>\r\n     <use style=\"fill:#ff7f0e;stroke:#ff7f0e;\" x=\"192.465721\" xlink:href=\"#ma2bd60d8b0\" y=\"68.809194\"/>\r\n     <use style=\"fill:#ff7f0e;stroke:#ff7f0e;\" x=\"145.952101\" xlink:href=\"#ma2bd60d8b0\" y=\"89.910859\"/>\r\n    </g>\r\n   </g>\r\n   <g id=\"PathCollection_3\">\r\n    <defs>\r\n     <path d=\"M 0 3 \r\nC 0.795609 3 1.55874 2.683901 2.12132 2.12132 \r\nC 2.683901 1.55874 3 0.795609 3 0 \r\nC 3 -0.795609 2.683901 -1.55874 2.12132 -2.12132 \r\nC 1.55874 -2.683901 0.795609 -3 0 -3 \r\nC -0.795609 -3 -1.55874 -2.683901 -2.12132 -2.12132 \r\nC -2.683901 -1.55874 -3 -0.795609 -3 0 \r\nC -3 0.795609 -2.683901 1.55874 -2.12132 2.12132 \r\nC -1.55874 2.683901 -0.795609 3 0 3 \r\nz\r\n\" id=\"m50ea4439bc\" style=\"stroke:#2ca02c;\"/>\r\n    </defs>\r\n    <g clip-path=\"url(#pda14b70d5d)\">\r\n     <use style=\"fill:#2ca02c;stroke:#2ca02c;\" x=\"162.447488\" xlink:href=\"#m50ea4439bc\" y=\"125.252183\"/>\r\n     <use style=\"fill:#2ca02c;stroke:#2ca02c;\" x=\"124.996303\" xlink:href=\"#m50ea4439bc\" y=\"130.716398\"/>\r\n     <use style=\"fill:#2ca02c;stroke:#2ca02c;\" x=\"105.429894\" xlink:href=\"#m50ea4439bc\" y=\"127.75351\"/>\r\n     <use style=\"fill:#2ca02c;stroke:#2ca02c;\" x=\"133.414847\" xlink:href=\"#m50ea4439bc\" y=\"130.54707\"/>\r\n     <use style=\"fill:#2ca02c;stroke:#2ca02c;\" x=\"125.514519\" xlink:href=\"#m50ea4439bc\" y=\"108.392741\"/>\r\n     <use style=\"fill:#2ca02c;stroke:#2ca02c;\" x=\"100.935272\" xlink:href=\"#m50ea4439bc\" y=\"130.149895\"/>\r\n     <use style=\"fill:#2ca02c;stroke:#2ca02c;\" x=\"70.762067\" xlink:href=\"#m50ea4439bc\" y=\"124.829196\"/>\r\n     <use style=\"fill:#2ca02c;stroke:#2ca02c;\" x=\"70.02857\" xlink:href=\"#m50ea4439bc\" y=\"138.345797\"/>\r\n     <use style=\"fill:#2ca02c;stroke:#2ca02c;\" x=\"99.857334\" xlink:href=\"#m50ea4439bc\" y=\"130.027599\"/>\r\n     <use style=\"fill:#2ca02c;stroke:#2ca02c;\" x=\"125.35152\" xlink:href=\"#m50ea4439bc\" y=\"128.505961\"/>\r\n     <use style=\"fill:#2ca02c;stroke:#2ca02c;\" x=\"111.030475\" xlink:href=\"#m50ea4439bc\" y=\"128.367466\"/>\r\n     <use style=\"fill:#2ca02c;stroke:#2ca02c;\" x=\"128.465147\" xlink:href=\"#m50ea4439bc\" y=\"130.660877\"/>\r\n     <use style=\"fill:#2ca02c;stroke:#2ca02c;\" x=\"103.705262\" xlink:href=\"#m50ea4439bc\" y=\"133.784038\"/>\r\n     <use style=\"fill:#2ca02c;stroke:#2ca02c;\" x=\"125.32591\" xlink:href=\"#m50ea4439bc\" y=\"133.599817\"/>\r\n     <use style=\"fill:#2ca02c;stroke:#2ca02c;\" x=\"131.181573\" xlink:href=\"#m50ea4439bc\" y=\"151.735571\"/>\r\n     <use style=\"fill:#2ca02c;stroke:#2ca02c;\" x=\"116.456259\" xlink:href=\"#m50ea4439bc\" y=\"135.762749\"/>\r\n     <use style=\"fill:#2ca02c;stroke:#2ca02c;\" x=\"57.838494\" xlink:href=\"#m50ea4439bc\" y=\"138.077762\"/>\r\n     <use style=\"fill:#2ca02c;stroke:#2ca02c;\" x=\"82.560312\" xlink:href=\"#m50ea4439bc\" y=\"154.750092\"/>\r\n     <use style=\"fill:#2ca02c;stroke:#2ca02c;\" x=\"110.029883\" xlink:href=\"#m50ea4439bc\" y=\"162.72005\"/>\r\n     <use style=\"fill:#2ca02c;stroke:#2ca02c;\" x=\"106.750312\" xlink:href=\"#m50ea4439bc\" y=\"175.311251\"/>\r\n     <use style=\"fill:#2ca02c;stroke:#2ca02c;\" x=\"127.254705\" xlink:href=\"#m50ea4439bc\" y=\"183.748921\"/>\r\n     <use style=\"fill:#2ca02c;stroke:#2ca02c;\" x=\"119.140607\" xlink:href=\"#m50ea4439bc\" y=\"175.424341\"/>\r\n     <use style=\"fill:#2ca02c;stroke:#2ca02c;\" x=\"145.254086\" xlink:href=\"#m50ea4439bc\" y=\"161.572371\"/>\r\n     <use style=\"fill:#2ca02c;stroke:#2ca02c;\" x=\"111.691673\" xlink:href=\"#m50ea4439bc\" y=\"177.930395\"/>\r\n     <use style=\"fill:#2ca02c;stroke:#2ca02c;\" x=\"112.506084\" xlink:href=\"#m50ea4439bc\" y=\"131.661124\"/>\r\n     <use style=\"fill:#2ca02c;stroke:#2ca02c;\" x=\"81.773054\" xlink:href=\"#m50ea4439bc\" y=\"168.924367\"/>\r\n     <use style=\"fill:#2ca02c;stroke:#2ca02c;\" x=\"107.098591\" xlink:href=\"#m50ea4439bc\" y=\"172.211415\"/>\r\n     <use style=\"fill:#2ca02c;stroke:#2ca02c;\" x=\"89.30696\" xlink:href=\"#m50ea4439bc\" y=\"155.798378\"/>\r\n     <use style=\"fill:#2ca02c;stroke:#2ca02c;\" x=\"172.326326\" xlink:href=\"#m50ea4439bc\" y=\"214.756364\"/>\r\n     <use style=\"fill:#2ca02c;stroke:#2ca02c;\" x=\"152.430842\" xlink:href=\"#m50ea4439bc\" y=\"185.094202\"/>\r\n     <use style=\"fill:#2ca02c;stroke:#2ca02c;\" x=\"98.126983\" xlink:href=\"#m50ea4439bc\" y=\"140.445756\"/>\r\n     <use style=\"fill:#2ca02c;stroke:#2ca02c;\" x=\"130.108707\" xlink:href=\"#m50ea4439bc\" y=\"152.148017\"/>\r\n     <use style=\"fill:#2ca02c;stroke:#2ca02c;\" x=\"108.591548\" xlink:href=\"#m50ea4439bc\" y=\"135.572303\"/>\r\n     <use style=\"fill:#2ca02c;stroke:#2ca02c;\" x=\"117.452359\" xlink:href=\"#m50ea4439bc\" y=\"139.370125\"/>\r\n     <use style=\"fill:#2ca02c;stroke:#2ca02c;\" x=\"104.992151\" xlink:href=\"#m50ea4439bc\" y=\"162.312634\"/>\r\n     <use style=\"fill:#2ca02c;stroke:#2ca02c;\" x=\"84.423632\" xlink:href=\"#m50ea4439bc\" y=\"144.308984\"/>\r\n     <use style=\"fill:#2ca02c;stroke:#2ca02c;\" x=\"124.230926\" xlink:href=\"#m50ea4439bc\" y=\"190.064016\"/>\r\n     <use style=\"fill:#2ca02c;stroke:#2ca02c;\" x=\"105.708118\" xlink:href=\"#m50ea4439bc\" y=\"154.796766\"/>\r\n     <use style=\"fill:#2ca02c;stroke:#2ca02c;\" x=\"132.189318\" xlink:href=\"#m50ea4439bc\" y=\"176.287464\"/>\r\n     <use style=\"fill:#2ca02c;stroke:#2ca02c;\" x=\"125.122854\" xlink:href=\"#m50ea4439bc\" y=\"189.965305\"/>\r\n     <use style=\"fill:#2ca02c;stroke:#2ca02c;\" x=\"95.701323\" xlink:href=\"#m50ea4439bc\" y=\"113.969142\"/>\r\n     <use style=\"fill:#2ca02c;stroke:#2ca02c;\" x=\"79.185759\" xlink:href=\"#m50ea4439bc\" y=\"143.378299\"/>\r\n     <use style=\"fill:#2ca02c;stroke:#2ca02c;\" x=\"122.125482\" xlink:href=\"#m50ea4439bc\" y=\"179.398608\"/>\r\n     <use style=\"fill:#2ca02c;stroke:#2ca02c;\" x=\"90.073124\" xlink:href=\"#m50ea4439bc\" y=\"180.000462\"/>\r\n     <use style=\"fill:#2ca02c;stroke:#2ca02c;\" x=\"117.294436\" xlink:href=\"#m50ea4439bc\" y=\"167.716023\"/>\r\n     <use style=\"fill:#2ca02c;stroke:#2ca02c;\" x=\"114.606775\" xlink:href=\"#m50ea4439bc\" y=\"194.574225\"/>\r\n     <use style=\"fill:#2ca02c;stroke:#2ca02c;\" x=\"124.907182\" xlink:href=\"#m50ea4439bc\" y=\"182.169562\"/>\r\n     <use style=\"fill:#2ca02c;stroke:#2ca02c;\" x=\"95.802585\" xlink:href=\"#m50ea4439bc\" y=\"194.788852\"/>\r\n    </g>\r\n   </g>\r\n   <g id=\"matplotlib.axis_1\">\r\n    <g id=\"xtick_1\">\r\n     <g id=\"line2d_1\">\r\n      <defs>\r\n       <path d=\"M 0 0 \r\nL 0 3.5 \r\n\" id=\"m2cc45ea772\" style=\"stroke:#000000;stroke-width:0.8;\"/>\r\n      </defs>\r\n      <g>\r\n       <use style=\"stroke:#000000;stroke-width:0.8;\" x=\"67.778217\" xlink:href=\"#m2cc45ea772\" y=\"224.64\"/>\r\n      </g>\r\n     </g>\r\n     <g id=\"text_1\">\r\n      <!-- −4 -->\r\n      <g transform=\"translate(60.407123 239.238437)scale(0.1 -0.1)\">\r\n       <defs>\r\n        <path d=\"M 10.59375 35.5 \r\nL 73.1875 35.5 \r\nL 73.1875 27.203125 \r\nL 10.59375 27.203125 \r\nz\r\n\" id=\"DejaVuSans-8722\"/>\r\n        <path d=\"M 37.796875 64.3125 \r\nL 12.890625 25.390625 \r\nL 37.796875 25.390625 \r\nz\r\nM 35.203125 72.90625 \r\nL 47.609375 72.90625 \r\nL 47.609375 25.390625 \r\nL 58.015625 25.390625 \r\nL 58.015625 17.1875 \r\nL 47.609375 17.1875 \r\nL 47.609375 0 \r\nL 37.796875 0 \r\nL 37.796875 17.1875 \r\nL 4.890625 17.1875 \r\nL 4.890625 26.703125 \r\nz\r\n\" id=\"DejaVuSans-52\"/>\r\n       </defs>\r\n       <use xlink:href=\"#DejaVuSans-8722\"/>\r\n       <use x=\"83.789062\" xlink:href=\"#DejaVuSans-52\"/>\r\n      </g>\r\n     </g>\r\n    </g>\r\n    <g id=\"xtick_2\">\r\n     <g id=\"line2d_2\">\r\n      <g>\r\n       <use style=\"stroke:#000000;stroke-width:0.8;\" x=\"138.614634\" xlink:href=\"#m2cc45ea772\" y=\"224.64\"/>\r\n      </g>\r\n     </g>\r\n     <g id=\"text_2\">\r\n      <!-- −2 -->\r\n      <g transform=\"translate(131.24354 239.238437)scale(0.1 -0.1)\">\r\n       <defs>\r\n        <path d=\"M 19.1875 8.296875 \r\nL 53.609375 8.296875 \r\nL 53.609375 0 \r\nL 7.328125 0 \r\nL 7.328125 8.296875 \r\nQ 12.9375 14.109375 22.625 23.890625 \r\nQ 32.328125 33.6875 34.8125 36.53125 \r\nQ 39.546875 41.84375 41.421875 45.53125 \r\nQ 43.3125 49.21875 43.3125 52.78125 \r\nQ 43.3125 58.59375 39.234375 62.25 \r\nQ 35.15625 65.921875 28.609375 65.921875 \r\nQ 23.96875 65.921875 18.8125 64.3125 \r\nQ 13.671875 62.703125 7.8125 59.421875 \r\nL 7.8125 69.390625 \r\nQ 13.765625 71.78125 18.9375 73 \r\nQ 24.125 74.21875 28.421875 74.21875 \r\nQ 39.75 74.21875 46.484375 68.546875 \r\nQ 53.21875 62.890625 53.21875 53.421875 \r\nQ 53.21875 48.921875 51.53125 44.890625 \r\nQ 49.859375 40.875 45.40625 35.40625 \r\nQ 44.1875 33.984375 37.640625 27.21875 \r\nQ 31.109375 20.453125 19.1875 8.296875 \r\nz\r\n\" id=\"DejaVuSans-50\"/>\r\n       </defs>\r\n       <use xlink:href=\"#DejaVuSans-8722\"/>\r\n       <use x=\"83.789062\" xlink:href=\"#DejaVuSans-50\"/>\r\n      </g>\r\n     </g>\r\n    </g>\r\n    <g id=\"xtick_3\">\r\n     <g id=\"line2d_3\">\r\n      <g>\r\n       <use style=\"stroke:#000000;stroke-width:0.8;\" x=\"209.451051\" xlink:href=\"#m2cc45ea772\" y=\"224.64\"/>\r\n      </g>\r\n     </g>\r\n     <g id=\"text_3\">\r\n      <!-- 0 -->\r\n      <g transform=\"translate(206.269801 239.238437)scale(0.1 -0.1)\">\r\n       <defs>\r\n        <path d=\"M 31.78125 66.40625 \r\nQ 24.171875 66.40625 20.328125 58.90625 \r\nQ 16.5 51.421875 16.5 36.375 \r\nQ 16.5 21.390625 20.328125 13.890625 \r\nQ 24.171875 6.390625 31.78125 6.390625 \r\nQ 39.453125 6.390625 43.28125 13.890625 \r\nQ 47.125 21.390625 47.125 36.375 \r\nQ 47.125 51.421875 43.28125 58.90625 \r\nQ 39.453125 66.40625 31.78125 66.40625 \r\nz\r\nM 31.78125 74.21875 \r\nQ 44.046875 74.21875 50.515625 64.515625 \r\nQ 56.984375 54.828125 56.984375 36.375 \r\nQ 56.984375 17.96875 50.515625 8.265625 \r\nQ 44.046875 -1.421875 31.78125 -1.421875 \r\nQ 19.53125 -1.421875 13.0625 8.265625 \r\nQ 6.59375 17.96875 6.59375 36.375 \r\nQ 6.59375 54.828125 13.0625 64.515625 \r\nQ 19.53125 74.21875 31.78125 74.21875 \r\nz\r\n\" id=\"DejaVuSans-48\"/>\r\n       </defs>\r\n       <use xlink:href=\"#DejaVuSans-48\"/>\r\n      </g>\r\n     </g>\r\n    </g>\r\n    <g id=\"xtick_4\">\r\n     <g id=\"line2d_4\">\r\n      <g>\r\n       <use style=\"stroke:#000000;stroke-width:0.8;\" x=\"280.287468\" xlink:href=\"#m2cc45ea772\" y=\"224.64\"/>\r\n      </g>\r\n     </g>\r\n     <g id=\"text_4\">\r\n      <!-- 2 -->\r\n      <g transform=\"translate(277.106218 239.238437)scale(0.1 -0.1)\">\r\n       <use xlink:href=\"#DejaVuSans-50\"/>\r\n      </g>\r\n     </g>\r\n    </g>\r\n    <g id=\"xtick_5\">\r\n     <g id=\"line2d_5\">\r\n      <g>\r\n       <use style=\"stroke:#000000;stroke-width:0.8;\" x=\"351.123885\" xlink:href=\"#m2cc45ea772\" y=\"224.64\"/>\r\n      </g>\r\n     </g>\r\n     <g id=\"text_5\">\r\n      <!-- 4 -->\r\n      <g transform=\"translate(347.942635 239.238437)scale(0.1 -0.1)\">\r\n       <use xlink:href=\"#DejaVuSans-52\"/>\r\n      </g>\r\n     </g>\r\n    </g>\r\n    <g id=\"text_6\">\r\n     <!-- PCA Component 1 -->\r\n     <g transform=\"translate(164.705469 252.916562)scale(0.1 -0.1)\">\r\n      <defs>\r\n       <path d=\"M 19.671875 64.796875 \r\nL 19.671875 37.40625 \r\nL 32.078125 37.40625 \r\nQ 38.96875 37.40625 42.71875 40.96875 \r\nQ 46.484375 44.53125 46.484375 51.125 \r\nQ 46.484375 57.671875 42.71875 61.234375 \r\nQ 38.96875 64.796875 32.078125 64.796875 \r\nz\r\nM 9.8125 72.90625 \r\nL 32.078125 72.90625 \r\nQ 44.34375 72.90625 50.609375 67.359375 \r\nQ 56.890625 61.8125 56.890625 51.125 \r\nQ 56.890625 40.328125 50.609375 34.8125 \r\nQ 44.34375 29.296875 32.078125 29.296875 \r\nL 19.671875 29.296875 \r\nL 19.671875 0 \r\nL 9.8125 0 \r\nz\r\n\" id=\"DejaVuSans-80\"/>\r\n       <path d=\"M 64.40625 67.28125 \r\nL 64.40625 56.890625 \r\nQ 59.421875 61.53125 53.78125 63.8125 \r\nQ 48.140625 66.109375 41.796875 66.109375 \r\nQ 29.296875 66.109375 22.65625 58.46875 \r\nQ 16.015625 50.828125 16.015625 36.375 \r\nQ 16.015625 21.96875 22.65625 14.328125 \r\nQ 29.296875 6.6875 41.796875 6.6875 \r\nQ 48.140625 6.6875 53.78125 8.984375 \r\nQ 59.421875 11.28125 64.40625 15.921875 \r\nL 64.40625 5.609375 \r\nQ 59.234375 2.09375 53.4375 0.328125 \r\nQ 47.65625 -1.421875 41.21875 -1.421875 \r\nQ 24.65625 -1.421875 15.125 8.703125 \r\nQ 5.609375 18.84375 5.609375 36.375 \r\nQ 5.609375 53.953125 15.125 64.078125 \r\nQ 24.65625 74.21875 41.21875 74.21875 \r\nQ 47.75 74.21875 53.53125 72.484375 \r\nQ 59.328125 70.75 64.40625 67.28125 \r\nz\r\n\" id=\"DejaVuSans-67\"/>\r\n       <path d=\"M 34.1875 63.1875 \r\nL 20.796875 26.90625 \r\nL 47.609375 26.90625 \r\nz\r\nM 28.609375 72.90625 \r\nL 39.796875 72.90625 \r\nL 67.578125 0 \r\nL 57.328125 0 \r\nL 50.6875 18.703125 \r\nL 17.828125 18.703125 \r\nL 11.1875 0 \r\nL 0.78125 0 \r\nz\r\n\" id=\"DejaVuSans-65\"/>\r\n       <path id=\"DejaVuSans-32\"/>\r\n       <path d=\"M 30.609375 48.390625 \r\nQ 23.390625 48.390625 19.1875 42.75 \r\nQ 14.984375 37.109375 14.984375 27.296875 \r\nQ 14.984375 17.484375 19.15625 11.84375 \r\nQ 23.34375 6.203125 30.609375 6.203125 \r\nQ 37.796875 6.203125 41.984375 11.859375 \r\nQ 46.1875 17.53125 46.1875 27.296875 \r\nQ 46.1875 37.015625 41.984375 42.703125 \r\nQ 37.796875 48.390625 30.609375 48.390625 \r\nz\r\nM 30.609375 56 \r\nQ 42.328125 56 49.015625 48.375 \r\nQ 55.71875 40.765625 55.71875 27.296875 \r\nQ 55.71875 13.875 49.015625 6.21875 \r\nQ 42.328125 -1.421875 30.609375 -1.421875 \r\nQ 18.84375 -1.421875 12.171875 6.21875 \r\nQ 5.515625 13.875 5.515625 27.296875 \r\nQ 5.515625 40.765625 12.171875 48.375 \r\nQ 18.84375 56 30.609375 56 \r\nz\r\n\" id=\"DejaVuSans-111\"/>\r\n       <path d=\"M 52 44.1875 \r\nQ 55.375 50.25 60.0625 53.125 \r\nQ 64.75 56 71.09375 56 \r\nQ 79.640625 56 84.28125 50.015625 \r\nQ 88.921875 44.046875 88.921875 33.015625 \r\nL 88.921875 0 \r\nL 79.890625 0 \r\nL 79.890625 32.71875 \r\nQ 79.890625 40.578125 77.09375 44.375 \r\nQ 74.3125 48.1875 68.609375 48.1875 \r\nQ 61.625 48.1875 57.5625 43.546875 \r\nQ 53.515625 38.921875 53.515625 30.90625 \r\nL 53.515625 0 \r\nL 44.484375 0 \r\nL 44.484375 32.71875 \r\nQ 44.484375 40.625 41.703125 44.40625 \r\nQ 38.921875 48.1875 33.109375 48.1875 \r\nQ 26.21875 48.1875 22.15625 43.53125 \r\nQ 18.109375 38.875 18.109375 30.90625 \r\nL 18.109375 0 \r\nL 9.078125 0 \r\nL 9.078125 54.6875 \r\nL 18.109375 54.6875 \r\nL 18.109375 46.1875 \r\nQ 21.1875 51.21875 25.484375 53.609375 \r\nQ 29.78125 56 35.6875 56 \r\nQ 41.65625 56 45.828125 52.96875 \r\nQ 50 49.953125 52 44.1875 \r\nz\r\n\" id=\"DejaVuSans-109\"/>\r\n       <path d=\"M 18.109375 8.203125 \r\nL 18.109375 -20.796875 \r\nL 9.078125 -20.796875 \r\nL 9.078125 54.6875 \r\nL 18.109375 54.6875 \r\nL 18.109375 46.390625 \r\nQ 20.953125 51.265625 25.265625 53.625 \r\nQ 29.59375 56 35.59375 56 \r\nQ 45.5625 56 51.78125 48.09375 \r\nQ 58.015625 40.1875 58.015625 27.296875 \r\nQ 58.015625 14.40625 51.78125 6.484375 \r\nQ 45.5625 -1.421875 35.59375 -1.421875 \r\nQ 29.59375 -1.421875 25.265625 0.953125 \r\nQ 20.953125 3.328125 18.109375 8.203125 \r\nz\r\nM 48.6875 27.296875 \r\nQ 48.6875 37.203125 44.609375 42.84375 \r\nQ 40.53125 48.484375 33.40625 48.484375 \r\nQ 26.265625 48.484375 22.1875 42.84375 \r\nQ 18.109375 37.203125 18.109375 27.296875 \r\nQ 18.109375 17.390625 22.1875 11.75 \r\nQ 26.265625 6.109375 33.40625 6.109375 \r\nQ 40.53125 6.109375 44.609375 11.75 \r\nQ 48.6875 17.390625 48.6875 27.296875 \r\nz\r\n\" id=\"DejaVuSans-112\"/>\r\n       <path d=\"M 54.890625 33.015625 \r\nL 54.890625 0 \r\nL 45.90625 0 \r\nL 45.90625 32.71875 \r\nQ 45.90625 40.484375 42.875 44.328125 \r\nQ 39.84375 48.1875 33.796875 48.1875 \r\nQ 26.515625 48.1875 22.3125 43.546875 \r\nQ 18.109375 38.921875 18.109375 30.90625 \r\nL 18.109375 0 \r\nL 9.078125 0 \r\nL 9.078125 54.6875 \r\nL 18.109375 54.6875 \r\nL 18.109375 46.1875 \r\nQ 21.34375 51.125 25.703125 53.5625 \r\nQ 30.078125 56 35.796875 56 \r\nQ 45.21875 56 50.046875 50.171875 \r\nQ 54.890625 44.34375 54.890625 33.015625 \r\nz\r\n\" id=\"DejaVuSans-110\"/>\r\n       <path d=\"M 56.203125 29.59375 \r\nL 56.203125 25.203125 \r\nL 14.890625 25.203125 \r\nQ 15.484375 15.921875 20.484375 11.0625 \r\nQ 25.484375 6.203125 34.421875 6.203125 \r\nQ 39.59375 6.203125 44.453125 7.46875 \r\nQ 49.3125 8.734375 54.109375 11.28125 \r\nL 54.109375 2.78125 \r\nQ 49.265625 0.734375 44.1875 -0.34375 \r\nQ 39.109375 -1.421875 33.890625 -1.421875 \r\nQ 20.796875 -1.421875 13.15625 6.1875 \r\nQ 5.515625 13.8125 5.515625 26.8125 \r\nQ 5.515625 40.234375 12.765625 48.109375 \r\nQ 20.015625 56 32.328125 56 \r\nQ 43.359375 56 49.78125 48.890625 \r\nQ 56.203125 41.796875 56.203125 29.59375 \r\nz\r\nM 47.21875 32.234375 \r\nQ 47.125 39.59375 43.09375 43.984375 \r\nQ 39.0625 48.390625 32.421875 48.390625 \r\nQ 24.90625 48.390625 20.390625 44.140625 \r\nQ 15.875 39.890625 15.1875 32.171875 \r\nz\r\n\" id=\"DejaVuSans-101\"/>\r\n       <path d=\"M 18.3125 70.21875 \r\nL 18.3125 54.6875 \r\nL 36.8125 54.6875 \r\nL 36.8125 47.703125 \r\nL 18.3125 47.703125 \r\nL 18.3125 18.015625 \r\nQ 18.3125 11.328125 20.140625 9.421875 \r\nQ 21.96875 7.515625 27.59375 7.515625 \r\nL 36.8125 7.515625 \r\nL 36.8125 0 \r\nL 27.59375 0 \r\nQ 17.1875 0 13.234375 3.875 \r\nQ 9.28125 7.765625 9.28125 18.015625 \r\nL 9.28125 47.703125 \r\nL 2.6875 47.703125 \r\nL 2.6875 54.6875 \r\nL 9.28125 54.6875 \r\nL 9.28125 70.21875 \r\nz\r\n\" id=\"DejaVuSans-116\"/>\r\n       <path d=\"M 12.40625 8.296875 \r\nL 28.515625 8.296875 \r\nL 28.515625 63.921875 \r\nL 10.984375 60.40625 \r\nL 10.984375 69.390625 \r\nL 28.421875 72.90625 \r\nL 38.28125 72.90625 \r\nL 38.28125 8.296875 \r\nL 54.390625 8.296875 \r\nL 54.390625 0 \r\nL 12.40625 0 \r\nz\r\n\" id=\"DejaVuSans-49\"/>\r\n      </defs>\r\n      <use xlink:href=\"#DejaVuSans-80\"/>\r\n      <use x=\"60.302734\" xlink:href=\"#DejaVuSans-67\"/>\r\n      <use x=\"130.126953\" xlink:href=\"#DejaVuSans-65\"/>\r\n      <use x=\"198.535156\" xlink:href=\"#DejaVuSans-32\"/>\r\n      <use x=\"230.322266\" xlink:href=\"#DejaVuSans-67\"/>\r\n      <use x=\"300.146484\" xlink:href=\"#DejaVuSans-111\"/>\r\n      <use x=\"361.328125\" xlink:href=\"#DejaVuSans-109\"/>\r\n      <use x=\"458.740234\" xlink:href=\"#DejaVuSans-112\"/>\r\n      <use x=\"522.216797\" xlink:href=\"#DejaVuSans-111\"/>\r\n      <use x=\"583.398438\" xlink:href=\"#DejaVuSans-110\"/>\r\n      <use x=\"646.777344\" xlink:href=\"#DejaVuSans-101\"/>\r\n      <use x=\"708.300781\" xlink:href=\"#DejaVuSans-110\"/>\r\n      <use x=\"771.679688\" xlink:href=\"#DejaVuSans-116\"/>\r\n      <use x=\"810.888672\" xlink:href=\"#DejaVuSans-32\"/>\r\n      <use x=\"842.675781\" xlink:href=\"#DejaVuSans-49\"/>\r\n     </g>\r\n    </g>\r\n   </g>\r\n   <g id=\"matplotlib.axis_2\">\r\n    <g id=\"ytick_1\">\r\n     <g id=\"line2d_6\">\r\n      <defs>\r\n       <path d=\"M 0 0 \r\nL -3.5 0 \r\n\" id=\"m712b1a5140\" style=\"stroke:#000000;stroke-width:0.8;\"/>\r\n      </defs>\r\n      <g>\r\n       <use style=\"stroke:#000000;stroke-width:0.8;\" x=\"42.620313\" xlink:href=\"#m712b1a5140\" y=\"200.972564\"/>\r\n      </g>\r\n     </g>\r\n     <g id=\"text_7\">\r\n      <!-- −3 -->\r\n      <g transform=\"translate(20.878125 204.771783)scale(0.1 -0.1)\">\r\n       <defs>\r\n        <path d=\"M 40.578125 39.3125 \r\nQ 47.65625 37.796875 51.625 33 \r\nQ 55.609375 28.21875 55.609375 21.1875 \r\nQ 55.609375 10.40625 48.1875 4.484375 \r\nQ 40.765625 -1.421875 27.09375 -1.421875 \r\nQ 22.515625 -1.421875 17.65625 -0.515625 \r\nQ 12.796875 0.390625 7.625 2.203125 \r\nL 7.625 11.71875 \r\nQ 11.71875 9.328125 16.59375 8.109375 \r\nQ 21.484375 6.890625 26.8125 6.890625 \r\nQ 36.078125 6.890625 40.9375 10.546875 \r\nQ 45.796875 14.203125 45.796875 21.1875 \r\nQ 45.796875 27.640625 41.28125 31.265625 \r\nQ 36.765625 34.90625 28.71875 34.90625 \r\nL 20.21875 34.90625 \r\nL 20.21875 43.015625 \r\nL 29.109375 43.015625 \r\nQ 36.375 43.015625 40.234375 45.921875 \r\nQ 44.09375 48.828125 44.09375 54.296875 \r\nQ 44.09375 59.90625 40.109375 62.90625 \r\nQ 36.140625 65.921875 28.71875 65.921875 \r\nQ 24.65625 65.921875 20.015625 65.03125 \r\nQ 15.375 64.15625 9.8125 62.3125 \r\nL 9.8125 71.09375 \r\nQ 15.4375 72.65625 20.34375 73.4375 \r\nQ 25.25 74.21875 29.59375 74.21875 \r\nQ 40.828125 74.21875 47.359375 69.109375 \r\nQ 53.90625 64.015625 53.90625 55.328125 \r\nQ 53.90625 49.265625 50.4375 45.09375 \r\nQ 46.96875 40.921875 40.578125 39.3125 \r\nz\r\n\" id=\"DejaVuSans-51\"/>\r\n       </defs>\r\n       <use xlink:href=\"#DejaVuSans-8722\"/>\r\n       <use x=\"83.789062\" xlink:href=\"#DejaVuSans-51\"/>\r\n      </g>\r\n     </g>\r\n    </g>\r\n    <g id=\"ytick_2\">\r\n     <g id=\"line2d_7\">\r\n      <g>\r\n       <use style=\"stroke:#000000;stroke-width:0.8;\" x=\"42.620313\" xlink:href=\"#m712b1a5140\" y=\"174.212565\"/>\r\n      </g>\r\n     </g>\r\n     <g id=\"text_8\">\r\n      <!-- −2 -->\r\n      <g transform=\"translate(20.878125 178.011784)scale(0.1 -0.1)\">\r\n       <use xlink:href=\"#DejaVuSans-8722\"/>\r\n       <use x=\"83.789062\" xlink:href=\"#DejaVuSans-50\"/>\r\n      </g>\r\n     </g>\r\n    </g>\r\n    <g id=\"ytick_3\">\r\n     <g id=\"line2d_8\">\r\n      <g>\r\n       <use style=\"stroke:#000000;stroke-width:0.8;\" x=\"42.620313\" xlink:href=\"#m712b1a5140\" y=\"147.452566\"/>\r\n      </g>\r\n     </g>\r\n     <g id=\"text_9\">\r\n      <!-- −1 -->\r\n      <g transform=\"translate(20.878125 151.251785)scale(0.1 -0.1)\">\r\n       <use xlink:href=\"#DejaVuSans-8722\"/>\r\n       <use x=\"83.789062\" xlink:href=\"#DejaVuSans-49\"/>\r\n      </g>\r\n     </g>\r\n    </g>\r\n    <g id=\"ytick_4\">\r\n     <g id=\"line2d_9\">\r\n      <g>\r\n       <use style=\"stroke:#000000;stroke-width:0.8;\" x=\"42.620313\" xlink:href=\"#m712b1a5140\" y=\"120.692568\"/>\r\n      </g>\r\n     </g>\r\n     <g id=\"text_10\">\r\n      <!-- 0 -->\r\n      <g transform=\"translate(29.257813 124.491786)scale(0.1 -0.1)\">\r\n       <use xlink:href=\"#DejaVuSans-48\"/>\r\n      </g>\r\n     </g>\r\n    </g>\r\n    <g id=\"ytick_5\">\r\n     <g id=\"line2d_10\">\r\n      <g>\r\n       <use style=\"stroke:#000000;stroke-width:0.8;\" x=\"42.620313\" xlink:href=\"#m712b1a5140\" y=\"93.932569\"/>\r\n      </g>\r\n     </g>\r\n     <g id=\"text_11\">\r\n      <!-- 1 -->\r\n      <g transform=\"translate(29.257813 97.731788)scale(0.1 -0.1)\">\r\n       <use xlink:href=\"#DejaVuSans-49\"/>\r\n      </g>\r\n     </g>\r\n    </g>\r\n    <g id=\"ytick_6\">\r\n     <g id=\"line2d_11\">\r\n      <g>\r\n       <use style=\"stroke:#000000;stroke-width:0.8;\" x=\"42.620313\" xlink:href=\"#m712b1a5140\" y=\"67.17257\"/>\r\n      </g>\r\n     </g>\r\n     <g id=\"text_12\">\r\n      <!-- 2 -->\r\n      <g transform=\"translate(29.257813 70.971789)scale(0.1 -0.1)\">\r\n       <use xlink:href=\"#DejaVuSans-50\"/>\r\n      </g>\r\n     </g>\r\n    </g>\r\n    <g id=\"ytick_7\">\r\n     <g id=\"line2d_12\">\r\n      <g>\r\n       <use style=\"stroke:#000000;stroke-width:0.8;\" x=\"42.620313\" xlink:href=\"#m712b1a5140\" y=\"40.412571\"/>\r\n      </g>\r\n     </g>\r\n     <g id=\"text_13\">\r\n      <!-- 3 -->\r\n      <g transform=\"translate(29.257813 44.21179)scale(0.1 -0.1)\">\r\n       <use xlink:href=\"#DejaVuSans-51\"/>\r\n      </g>\r\n     </g>\r\n    </g>\r\n    <g id=\"ytick_8\">\r\n     <g id=\"line2d_13\">\r\n      <g>\r\n       <use style=\"stroke:#000000;stroke-width:0.8;\" x=\"42.620313\" xlink:href=\"#m712b1a5140\" y=\"13.652572\"/>\r\n      </g>\r\n     </g>\r\n     <g id=\"text_14\">\r\n      <!-- 4 -->\r\n      <g transform=\"translate(29.257813 17.451791)scale(0.1 -0.1)\">\r\n       <use xlink:href=\"#DejaVuSans-52\"/>\r\n      </g>\r\n     </g>\r\n    </g>\r\n    <g id=\"text_15\">\r\n     <!-- PCA Component 2 -->\r\n     <g transform=\"translate(14.798438 161.234844)rotate(-90)scale(0.1 -0.1)\">\r\n      <use xlink:href=\"#DejaVuSans-80\"/>\r\n      <use x=\"60.302734\" xlink:href=\"#DejaVuSans-67\"/>\r\n      <use x=\"130.126953\" xlink:href=\"#DejaVuSans-65\"/>\r\n      <use x=\"198.535156\" xlink:href=\"#DejaVuSans-32\"/>\r\n      <use x=\"230.322266\" xlink:href=\"#DejaVuSans-67\"/>\r\n      <use x=\"300.146484\" xlink:href=\"#DejaVuSans-111\"/>\r\n      <use x=\"361.328125\" xlink:href=\"#DejaVuSans-109\"/>\r\n      <use x=\"458.740234\" xlink:href=\"#DejaVuSans-112\"/>\r\n      <use x=\"522.216797\" xlink:href=\"#DejaVuSans-111\"/>\r\n      <use x=\"583.398438\" xlink:href=\"#DejaVuSans-110\"/>\r\n      <use x=\"646.777344\" xlink:href=\"#DejaVuSans-101\"/>\r\n      <use x=\"708.300781\" xlink:href=\"#DejaVuSans-110\"/>\r\n      <use x=\"771.679688\" xlink:href=\"#DejaVuSans-116\"/>\r\n      <use x=\"810.888672\" xlink:href=\"#DejaVuSans-32\"/>\r\n      <use x=\"842.675781\" xlink:href=\"#DejaVuSans-50\"/>\r\n     </g>\r\n    </g>\r\n   </g>\r\n   <g id=\"patch_3\">\r\n    <path d=\"M 42.620313 224.64 \r\nL 42.620313 7.2 \r\n\" style=\"fill:none;stroke:#000000;stroke-linecap:square;stroke-linejoin:miter;stroke-width:0.8;\"/>\r\n   </g>\r\n   <g id=\"patch_4\">\r\n    <path d=\"M 377.420313 224.64 \r\nL 377.420313 7.2 \r\n\" style=\"fill:none;stroke:#000000;stroke-linecap:square;stroke-linejoin:miter;stroke-width:0.8;\"/>\r\n   </g>\r\n   <g id=\"patch_5\">\r\n    <path d=\"M 42.620312 224.64 \r\nL 377.420313 224.64 \r\n\" style=\"fill:none;stroke:#000000;stroke-linecap:square;stroke-linejoin:miter;stroke-width:0.8;\"/>\r\n   </g>\r\n   <g id=\"patch_6\">\r\n    <path d=\"M 42.620312 7.2 \r\nL 377.420313 7.2 \r\n\" style=\"fill:none;stroke:#000000;stroke-linecap:square;stroke-linejoin:miter;stroke-width:0.8;\"/>\r\n   </g>\r\n   <g id=\"legend_1\">\r\n    <g id=\"patch_7\">\r\n     <path d=\"M 302.234375 60.06875 \r\nL 370.420313 60.06875 \r\nQ 372.420313 60.06875 372.420313 58.06875 \r\nL 372.420313 14.2 \r\nQ 372.420313 12.2 370.420313 12.2 \r\nL 302.234375 12.2 \r\nQ 300.234375 12.2 300.234375 14.2 \r\nL 300.234375 58.06875 \r\nQ 300.234375 60.06875 302.234375 60.06875 \r\nz\r\n\" style=\"fill:#ffffff;opacity:0.8;stroke:#cccccc;stroke-linejoin:miter;\"/>\r\n    </g>\r\n    <g id=\"PathCollection_4\">\r\n     <g>\r\n      <use style=\"fill:#1f77b4;stroke:#1f77b4;\" x=\"314.234375\" xlink:href=\"#m512a11ad6c\" y=\"21.173437\"/>\r\n     </g>\r\n    </g>\r\n    <g id=\"text_16\">\r\n     <!-- class_0 -->\r\n     <g transform=\"translate(332.234375 23.798437)scale(0.1 -0.1)\">\r\n      <defs>\r\n       <path d=\"M 48.78125 52.59375 \r\nL 48.78125 44.1875 \r\nQ 44.96875 46.296875 41.140625 47.34375 \r\nQ 37.3125 48.390625 33.40625 48.390625 \r\nQ 24.65625 48.390625 19.8125 42.84375 \r\nQ 14.984375 37.3125 14.984375 27.296875 \r\nQ 14.984375 17.28125 19.8125 11.734375 \r\nQ 24.65625 6.203125 33.40625 6.203125 \r\nQ 37.3125 6.203125 41.140625 7.25 \r\nQ 44.96875 8.296875 48.78125 10.40625 \r\nL 48.78125 2.09375 \r\nQ 45.015625 0.34375 40.984375 -0.53125 \r\nQ 36.96875 -1.421875 32.421875 -1.421875 \r\nQ 20.0625 -1.421875 12.78125 6.34375 \r\nQ 5.515625 14.109375 5.515625 27.296875 \r\nQ 5.515625 40.671875 12.859375 48.328125 \r\nQ 20.21875 56 33.015625 56 \r\nQ 37.15625 56 41.109375 55.140625 \r\nQ 45.0625 54.296875 48.78125 52.59375 \r\nz\r\n\" id=\"DejaVuSans-99\"/>\r\n       <path d=\"M 9.421875 75.984375 \r\nL 18.40625 75.984375 \r\nL 18.40625 0 \r\nL 9.421875 0 \r\nz\r\n\" id=\"DejaVuSans-108\"/>\r\n       <path d=\"M 34.28125 27.484375 \r\nQ 23.390625 27.484375 19.1875 25 \r\nQ 14.984375 22.515625 14.984375 16.5 \r\nQ 14.984375 11.71875 18.140625 8.90625 \r\nQ 21.296875 6.109375 26.703125 6.109375 \r\nQ 34.1875 6.109375 38.703125 11.40625 \r\nQ 43.21875 16.703125 43.21875 25.484375 \r\nL 43.21875 27.484375 \r\nz\r\nM 52.203125 31.203125 \r\nL 52.203125 0 \r\nL 43.21875 0 \r\nL 43.21875 8.296875 \r\nQ 40.140625 3.328125 35.546875 0.953125 \r\nQ 30.953125 -1.421875 24.3125 -1.421875 \r\nQ 15.921875 -1.421875 10.953125 3.296875 \r\nQ 6 8.015625 6 15.921875 \r\nQ 6 25.140625 12.171875 29.828125 \r\nQ 18.359375 34.515625 30.609375 34.515625 \r\nL 43.21875 34.515625 \r\nL 43.21875 35.40625 \r\nQ 43.21875 41.609375 39.140625 45 \r\nQ 35.0625 48.390625 27.6875 48.390625 \r\nQ 23 48.390625 18.546875 47.265625 \r\nQ 14.109375 46.140625 10.015625 43.890625 \r\nL 10.015625 52.203125 \r\nQ 14.9375 54.109375 19.578125 55.046875 \r\nQ 24.21875 56 28.609375 56 \r\nQ 40.484375 56 46.34375 49.84375 \r\nQ 52.203125 43.703125 52.203125 31.203125 \r\nz\r\n\" id=\"DejaVuSans-97\"/>\r\n       <path d=\"M 44.28125 53.078125 \r\nL 44.28125 44.578125 \r\nQ 40.484375 46.53125 36.375 47.5 \r\nQ 32.28125 48.484375 27.875 48.484375 \r\nQ 21.1875 48.484375 17.84375 46.4375 \r\nQ 14.5 44.390625 14.5 40.28125 \r\nQ 14.5 37.15625 16.890625 35.375 \r\nQ 19.28125 33.59375 26.515625 31.984375 \r\nL 29.59375 31.296875 \r\nQ 39.15625 29.25 43.1875 25.515625 \r\nQ 47.21875 21.78125 47.21875 15.09375 \r\nQ 47.21875 7.46875 41.1875 3.015625 \r\nQ 35.15625 -1.421875 24.609375 -1.421875 \r\nQ 20.21875 -1.421875 15.453125 -0.5625 \r\nQ 10.6875 0.296875 5.421875 2 \r\nL 5.421875 11.28125 \r\nQ 10.40625 8.6875 15.234375 7.390625 \r\nQ 20.0625 6.109375 24.8125 6.109375 \r\nQ 31.15625 6.109375 34.5625 8.28125 \r\nQ 37.984375 10.453125 37.984375 14.40625 \r\nQ 37.984375 18.0625 35.515625 20.015625 \r\nQ 33.0625 21.96875 24.703125 23.78125 \r\nL 21.578125 24.515625 \r\nQ 13.234375 26.265625 9.515625 29.90625 \r\nQ 5.8125 33.546875 5.8125 39.890625 \r\nQ 5.8125 47.609375 11.28125 51.796875 \r\nQ 16.75 56 26.8125 56 \r\nQ 31.78125 56 36.171875 55.265625 \r\nQ 40.578125 54.546875 44.28125 53.078125 \r\nz\r\n\" id=\"DejaVuSans-115\"/>\r\n       <path d=\"M 50.984375 -16.609375 \r\nL 50.984375 -23.578125 \r\nL -0.984375 -23.578125 \r\nL -0.984375 -16.609375 \r\nz\r\n\" id=\"DejaVuSans-95\"/>\r\n      </defs>\r\n      <use xlink:href=\"#DejaVuSans-99\"/>\r\n      <use x=\"54.980469\" xlink:href=\"#DejaVuSans-108\"/>\r\n      <use x=\"82.763672\" xlink:href=\"#DejaVuSans-97\"/>\r\n      <use x=\"144.042969\" xlink:href=\"#DejaVuSans-115\"/>\r\n      <use x=\"196.142578\" xlink:href=\"#DejaVuSans-115\"/>\r\n      <use x=\"248.242188\" xlink:href=\"#DejaVuSans-95\"/>\r\n      <use x=\"298.242188\" xlink:href=\"#DejaVuSans-48\"/>\r\n     </g>\r\n    </g>\r\n    <g id=\"PathCollection_5\">\r\n     <g>\r\n      <use style=\"fill:#ff7f0e;stroke:#ff7f0e;\" x=\"314.234375\" xlink:href=\"#ma2bd60d8b0\" y=\"36.129687\"/>\r\n     </g>\r\n    </g>\r\n    <g id=\"text_17\">\r\n     <!-- class_1 -->\r\n     <g transform=\"translate(332.234375 38.754687)scale(0.1 -0.1)\">\r\n      <use xlink:href=\"#DejaVuSans-99\"/>\r\n      <use x=\"54.980469\" xlink:href=\"#DejaVuSans-108\"/>\r\n      <use x=\"82.763672\" xlink:href=\"#DejaVuSans-97\"/>\r\n      <use x=\"144.042969\" xlink:href=\"#DejaVuSans-115\"/>\r\n      <use x=\"196.142578\" xlink:href=\"#DejaVuSans-115\"/>\r\n      <use x=\"248.242188\" xlink:href=\"#DejaVuSans-95\"/>\r\n      <use x=\"298.242188\" xlink:href=\"#DejaVuSans-49\"/>\r\n     </g>\r\n    </g>\r\n    <g id=\"PathCollection_6\">\r\n     <g>\r\n      <use style=\"fill:#2ca02c;stroke:#2ca02c;\" x=\"314.234375\" xlink:href=\"#m50ea4439bc\" y=\"51.085937\"/>\r\n     </g>\r\n    </g>\r\n    <g id=\"text_18\">\r\n     <!-- class_2 -->\r\n     <g transform=\"translate(332.234375 53.710937)scale(0.1 -0.1)\">\r\n      <use xlink:href=\"#DejaVuSans-99\"/>\r\n      <use x=\"54.980469\" xlink:href=\"#DejaVuSans-108\"/>\r\n      <use x=\"82.763672\" xlink:href=\"#DejaVuSans-97\"/>\r\n      <use x=\"144.042969\" xlink:href=\"#DejaVuSans-115\"/>\r\n      <use x=\"196.142578\" xlink:href=\"#DejaVuSans-115\"/>\r\n      <use x=\"248.242188\" xlink:href=\"#DejaVuSans-95\"/>\r\n      <use x=\"298.242188\" xlink:href=\"#DejaVuSans-50\"/>\r\n     </g>\r\n    </g>\r\n   </g>\r\n  </g>\r\n </g>\r\n <defs>\r\n  <clipPath id=\"pda14b70d5d\">\r\n   <rect height=\"217.44\" width=\"334.8\" x=\"42.620313\" y=\"7.2\"/>\r\n  </clipPath>\r\n </defs>\r\n</svg>\r\n",
      "image/png": "[encoded data removed]"
     },
     "metadata": {
      "needs_background": "light"
     }
    }
   ],
   "source": [
    "markers = ['^','s','o']\n",
    "\n",
    "for i, marker in enumerate(markers):\n",
    "    x_data = df_pca[df_pca['class']==i]['PC1']\n",
    "    y_data = df_pca[df_pca['class']==i]['PC2']\n",
    "    plt.scatter(x_data, y_data, marker=marker, label=wine.target_names[i])\n",
    "\n",
    "plt.legend()\n",
    "plt.xlabel('PCA Component 1')\n",
    "plt.ylabel('PCA Component 2')\n",
    "plt.show()"
   ]
  },
  {
   "source": [
    "### 분류 비교"
   ],
   "cell_type": "markdown",
   "metadata": {}
  },
  {
   "cell_type": "code",
   "execution_count": 33,
   "metadata": {},
   "outputs": [],
   "source": [
    "from sklearn.model_selection import train_test_split\n",
    "from sklearn.tree import DecisionTreeClassifier\n",
    "from sklearn.metrics import accuracy_score"
   ]
  },
  {
   "source": [
    "#### 1) PCA 전"
   ],
   "cell_type": "markdown",
   "metadata": {}
  },
  {
   "cell_type": "code",
   "execution_count": 52,
   "metadata": {},
   "outputs": [],
   "source": [
    "X_train, X_test, y_train, y_test = train_test_split(\n",
    "    wine_pca, wine.target, stratify=wine.target, random_state=2021\n",
    ")"
   ]
  },
  {
   "cell_type": "code",
   "execution_count": 53,
   "metadata": {},
   "outputs": [
    {
     "output_type": "execute_result",
     "data": {
      "text/plain": [
       "0.8888888888888888"
      ]
     },
     "metadata": {},
     "execution_count": 53
    }
   ],
   "source": [
    "dtc = DecisionTreeClassifier(random_state=2021)\n",
    "dtc.fit(X_train, y_train)\n",
    "pred = dtc.predict(X_test)\n",
    "accuracy_score(y_test, pred)"
   ]
  },
  {
   "source": [
    "#### 2) PCA 후"
   ],
   "cell_type": "markdown",
   "metadata": {}
  },
  {
   "cell_type": "code",
   "execution_count": 55,
   "metadata": {},
   "outputs": [],
   "source": [
    "X_train, X_test, y_train, y_test = train_test_split(\n",
    "    wine.data, wine.target, stratify=wine.target, random_state=2021\n",
    ")"
   ]
  },
  {
   "cell_type": "code",
   "execution_count": 56,
   "metadata": {},
   "outputs": [
    {
     "output_type": "execute_result",
     "data": {
      "text/plain": [
       "0.9333333333333333"
      ]
     },
     "metadata": {},
     "execution_count": 56
    }
   ],
   "source": [
    "dtc = DecisionTreeClassifier(random_state=2021)\n",
    "dtc.fit(X_train, y_train)\n",
    "pred = dtc.predict(X_test)\n",
    "accuracy_score(y_test, pred)"
   ]
  },
  {
   "cell_type": "code",
   "execution_count": 57,
   "metadata": {},
   "outputs": [
    {
     "output_type": "execute_result",
     "data": {
      "text/plain": [
       "array([0.36198848, 0.1920749 ])"
      ]
     },
     "metadata": {},
     "execution_count": 57
    }
   ],
   "source": [
    "# PCA 설명력\n",
    "pca.explained_variance_ratio_"
   ]
  },
  {
   "source": [
    "### 5개 차원으로 축소후 분류"
   ],
   "cell_type": "markdown",
   "metadata": {}
  },
  {
   "cell_type": "code",
   "execution_count": 58,
   "metadata": {},
   "outputs": [],
   "source": [
    "pca5 = PCA(n_components=5)\n",
    "wine_pca5 = pca5.fit_transform(wine_std)"
   ]
  },
  {
   "cell_type": "code",
   "execution_count": 59,
   "metadata": {},
   "outputs": [
    {
     "output_type": "execute_result",
     "data": {
      "text/plain": [
       "(array([0.36198848, 0.1920749 , 0.11123631, 0.0706903 , 0.06563294]),\n",
       " 0.8016229275554787)"
      ]
     },
     "metadata": {},
     "execution_count": 59
    }
   ],
   "source": [
    "# PCA 설명력\n",
    "pca5.explained_variance_ratio_, np.sum(pca5.explained_variance_ratio_)"
   ]
  },
  {
   "cell_type": "code",
   "execution_count": 61,
   "metadata": {},
   "outputs": [],
   "source": [
    "X_train, X_test, y_train, y_test = train_test_split(\n",
    "    wine_pca5, wine.target, stratify=wine.target, random_state=2021)"
   ]
  },
  {
   "cell_type": "code",
   "execution_count": 62,
   "metadata": {},
   "outputs": [
    {
     "output_type": "execute_result",
     "data": {
      "text/plain": [
       "0.9333333333333333"
      ]
     },
     "metadata": {},
     "execution_count": 62
    }
   ],
   "source": [
    "dtc = DecisionTreeClassifier(random_state=2021)\n",
    "dtc.fit(X_train, y_train)\n",
    "pred = dtc.predict(X_test)\n",
    "accuracy_score(y_test, pred)"
   ]
  },
  {
   "cell_type": "code",
   "execution_count": null,
   "metadata": {},
   "outputs": [],
   "source": []
  },
  {
   "cell_type": "code",
   "execution_count": null,
   "metadata": {},
   "outputs": [],
   "source": []
  }
 ]
}