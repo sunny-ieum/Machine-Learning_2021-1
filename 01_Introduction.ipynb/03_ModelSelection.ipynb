{
 "metadata": {
  "language_info": {
   "codemirror_mode": {
    "name": "ipython",
    "version": 3
   },
   "file_extension": ".py",
   "mimetype": "text/x-python",
   "name": "python",
   "nbconvert_exporter": "python",
   "pygments_lexer": "ipython3",
   "version": "3.9.2-final"
  },
  "orig_nbformat": 2,
  "kernelspec": {
   "name": "python3",
   "display_name": "Python 3.9.2 64-bit",
   "metadata": {
    "interpreter": {
     "hash": "b674c0892b3c64375a5c933dff98129cc6aeb23957d1f1ec6f775041500db805"
    }
   }
  }
 },
 "nbformat": 4,
 "nbformat_minor": 2,
 "cells": [
  {
   "source": [
    "## 모델 셀렉션 모델"
   ],
   "cell_type": "markdown",
   "metadata": {}
  },
  {
   "source": [
    "Train data, Test data를 분리하지 않고 머신러닝 수행"
   ],
   "cell_type": "markdown",
   "metadata": {}
  },
  {
   "cell_type": "code",
   "execution_count": 148,
   "metadata": {},
   "outputs": [],
   "source": [
    "from sklearn.datasets import load_iris\n",
    "from sklearn.tree import DecisionTreeClassifier\n",
    "from sklearn.metrics import accuracy_score"
   ]
  },
  {
   "cell_type": "code",
   "execution_count": 149,
   "metadata": {},
   "outputs": [
    {
     "output_type": "execute_result",
     "data": {
      "text/plain": [
       "DecisionTreeClassifier()"
      ]
     },
     "metadata": {},
     "execution_count": 149
    }
   ],
   "source": [
    "iris = load_iris()\n",
    "dt_clf = DecisionTreeClassifier()\n",
    "dt_clf.fit(iris.data, iris.target)"
   ]
  },
  {
   "cell_type": "code",
   "execution_count": 150,
   "metadata": {},
   "outputs": [
    {
     "output_type": "execute_result",
     "data": {
      "text/plain": [
       "1.0"
      ]
     },
     "metadata": {},
     "execution_count": 150
    }
   ],
   "source": [
    "pred = dt_clf.predict(iris.data)\n",
    "accuracy_score(iris.target, pred)"
   ]
  },
  {
   "source": [
    "### 학습/테스트 데이터 세트 분리"
   ],
   "cell_type": "markdown",
   "metadata": {}
  },
  {
   "cell_type": "code",
   "execution_count": 151,
   "metadata": {},
   "outputs": [],
   "source": [
    "# 테스트 데이터 세트의 크기: 30%\n",
    "from sklearn.model_selection import train_test_split\n",
    "\n",
    "X_train, X_test, y_train, y_test =  train_test_split(\n",
    "    iris.data, iris.target, test_size=0.3, random_state=2011\n",
    ")"
   ]
  },
  {
   "cell_type": "code",
   "execution_count": 152,
   "metadata": {},
   "outputs": [
    {
     "output_type": "execute_result",
     "data": {
      "text/plain": [
       "DecisionTreeClassifier()"
      ]
     },
     "metadata": {},
     "execution_count": 152
    }
   ],
   "source": [
    "dt_clf = DecisionTreeClassifier()\n",
    "dt_clf.fit(X_train, y_train)"
   ]
  },
  {
   "cell_type": "code",
   "execution_count": 153,
   "metadata": {},
   "outputs": [
    {
     "output_type": "execute_result",
     "data": {
      "text/plain": [
       "0.9333333333333333"
      ]
     },
     "metadata": {},
     "execution_count": 153
    }
   ],
   "source": [
    "pred = dt_clf.predict(X_test)\n",
    "accuracy_score(y_test, pred)"
   ]
  },
  {
   "source": [
    "### K-Fold 교차 검증"
   ],
   "cell_type": "markdown",
   "metadata": {}
  },
  {
   "cell_type": "code",
   "execution_count": 154,
   "metadata": {},
   "outputs": [
    {
     "output_type": "stream",
     "name": "stdout",
     "text": [
      "붓꽃 데이터 세트 크기: 150\n"
     ]
    }
   ],
   "source": [
    "from sklearn.model_selection import KFold\n",
    "import numpy as np\n",
    "\n",
    "kfold = KFold(n_splits=5)\n",
    "cv_accuracy = []\n",
    "features, label = iris.data, iris.target \n",
    "dt_clf = DecisionTreeClassifier(random_state=156) \n",
    "print('붓꽃 데이터 세트 크기:', features.shape[0])"
   ]
  },
  {
   "cell_type": "code",
   "execution_count": 178,
   "metadata": {},
   "outputs": [
    {
     "output_type": "stream",
     "name": "stdout",
     "text": [
      "#1 교차 검증 정확도: 1.0, 학습 데이터 크기: 120, 검증 데이터 크기: 30\n#1 검증 세트 인덱스: [ 0  1  2  3  4  5  6  7  8  9 10 11 12 13 14 15 16 17 18 19 20 21 22 23\n 24 25 26 27 28 29]\n\n#2 교차 검증 정확도: 1.0, 학습 데이터 크기: 120, 검증 데이터 크기: 30\n#2 검증 세트 인덱스: [30 31 32 33 34 35 36 37 38 39 40 41 42 43 44 45 46 47 48 49 50 51 52 53\n 54 55 56 57 58 59]\n\n#3 교차 검증 정확도: 0.8333, 학습 데이터 크기: 120, 검증 데이터 크기: 30\n#3 검증 세트 인덱스: [60 61 62 63 64 65 66 67 68 69 70 71 72 73 74 75 76 77 78 79 80 81 82 83\n 84 85 86 87 88 89]\n\n#4 교차 검증 정확도: 0.9333, 학습 데이터 크기: 120, 검증 데이터 크기: 30\n#4 검증 세트 인덱스: [ 90  91  92  93  94  95  96  97  98  99 100 101 102 103 104 105 106 107\n 108 109 110 111 112 113 114 115 116 117 118 119]\n\n#5 교차 검증 정확도: 0.8, 학습 데이터 크기: 120, 검증 데이터 크기: 30\n#5 검증 세트 인덱스: [120 121 122 123 124 125 126 127 128 129 130 131 132 133 134 135 136 137\n 138 139 140 141 142 143 144 145 146 147 148 149]\n\n"
     ]
    }
   ],
   "source": [
    "n_iter = 0 \n",
    "\n",
    "\n",
    "# KFold객체의 split( ) 호출하면 폴드 별 학습용, 검증용 테스트의 로우 인덱스를 array로 반환\n",
    "for train_index, test_index in kfold.split(features):\n",
    "    # kfold.split( )으로 반환된 인덱스를 이용하여 학습용, 검증용 테스트 데이터 추출\n",
    "    X_train, X_test = features[train_index], features[test_index]\n",
    "    y_train, y_test = label[train_index], label[test_index]\n",
    "    #학습 및 예측 \n",
    "    dt_clf.fit(X_train, y_train)    \n",
    "    pred = dt_clf.predict(X_test)\n",
    "    n_iter += 1\n",
    "    # 반복 시 마다 정확도 측정 \n",
    "    accuracy = np.round(accuracy_score(y_test, pred), 4)\n",
    "    train_size = X_train.shape[0]\n",
    "    test_size = X_test.shape[0]\n",
    "    print(f'#{n_iter} 교차 검증 정확도: {accuracy}, 학습 데이터 크기: {train_size}, 검증 데이터 크기: {test_size}')\n",
    "    print(f'#{n_iter} 검증 세트 인덱스: {test_index}\\n')\n",
    "    cv_accuracy.append(accuracy)"
   ]
  },
  {
   "cell_type": "code",
   "execution_count": 179,
   "metadata": {},
   "outputs": [
    {
     "output_type": "stream",
     "name": "stdout",
     "text": [
      "## 평균 검증 정확도: 0.9066600000000001\n"
     ]
    }
   ],
   "source": [
    "print('## 평균 검증 정확도:', np.mean(cv_accuracy))"
   ]
  },
  {
   "source": [
    "### Stratified K-Fold"
   ],
   "cell_type": "markdown",
   "metadata": {}
  },
  {
   "cell_type": "code",
   "execution_count": 180,
   "metadata": {},
   "outputs": [
    {
     "output_type": "execute_result",
     "data": {
      "text/plain": [
       "0    50\n",
       "1    50\n",
       "2    50\n",
       "Name: label, dtype: int64"
      ]
     },
     "metadata": {},
     "execution_count": 180
    }
   ],
   "source": [
    "import pandas as pd\n",
    "\n",
    "iris = load_iris()\n",
    "iris_df = pd.DataFrame(data=iris.data, columns=iris.feature_names)\n",
    "iris_df['label']=iris.target\n",
    "iris_df['label'].value_counts()"
   ]
  },
  {
   "source": [
    "- 3개로 나눔, StopIteration K-Fold"
   ],
   "cell_type": "markdown",
   "metadata": {}
  },
  {
   "cell_type": "code",
   "execution_count": 181,
   "metadata": {},
   "outputs": [],
   "source": [
    "from sklearn.model_selection import StratifiedKFold\n",
    "\n",
    "skf = StratifiedKFold(n_splits=3)"
   ]
  },
  {
   "cell_type": "code",
   "execution_count": 176,
   "metadata": {},
   "outputs": [
    {
     "output_type": "execute_result",
     "data": {
      "text/plain": [
       "0    50\n",
       "1    50\n",
       "2    50\n",
       "Name: label, dtype: int64"
      ]
     },
     "metadata": {},
     "execution_count": 176
    }
   ],
   "source": [
    "import pandas as pd\n",
    "iris_df = pd.DataFrame(data=iris.data, columns=iris.feature_names)\n",
    "iris_df['label']=iris.target\n",
    "iris_df['label'].value_counts()"
   ]
  },
  {
   "cell_type": "code",
   "execution_count": 182,
   "metadata": {},
   "outputs": [
    {
     "output_type": "stream",
     "name": "stdout",
     "text": [
      "## 교차 검증: 1\n학습 레이블 데이터 분포:\n 2    34\n0    33\n1    33\nName: label, dtype: int64\n검증 레이블 데이터 분포:\n 0    17\n1    17\n2    16\nName: label, dtype: int64\n## 교차 검증: 2\n학습 레이블 데이터 분포:\n 1    34\n0    33\n2    33\nName: label, dtype: int64\n검증 레이블 데이터 분포:\n 0    17\n2    17\n1    16\nName: label, dtype: int64\n## 교차 검증: 3\n학습 레이블 데이터 분포:\n 0    34\n1    33\n2    33\nName: label, dtype: int64\n검증 레이블 데이터 분포:\n 1    17\n2    17\n0    16\nName: label, dtype: int64\n"
     ]
    }
   ],
   "source": [
    "\n",
    "n_iter=0\n",
    "for train_index, test_index in skf.split(iris_df, iris_df['label']):\n",
    "    n_iter += 1\n",
    "    label_train= iris_df['label'][train_index]\n",
    "    label_test= iris_df['label'][test_index]\n",
    "    print(f'## 교차 검증: {n_iter}')\n",
    "    print('학습 레이블 데이터 분포:\\n', label_train.value_counts())\n",
    "    print('검증 레이블 데이터 분포:\\n', label_test.value_counts())"
   ]
  },
  {
   "source": [
    "### 간편한 교차검증 방법 - Cross_val_score"
   ],
   "cell_type": "markdown",
   "metadata": {}
  },
  {
   "cell_type": "code",
   "execution_count": 183,
   "metadata": {},
   "outputs": [],
   "source": [
    "from sklearn.model_selection import cross_val_score"
   ]
  },
  {
   "cell_type": "code",
   "execution_count": 185,
   "metadata": {},
   "outputs": [
    {
     "output_type": "stream",
     "name": "stdout",
     "text": [
      "[CV] END .................................................... total time=   0.0s\n",
      "[CV] END .................................................... total time=   0.0s\n",
      "[CV] END .................................................... total time=   0.0s\n",
      "[Parallel(n_jobs=1)]: Using backend SequentialBackend with 1 concurrent workers.\n",
      "[Parallel(n_jobs=1)]: Done   1 out of   1 | elapsed:    0.0s remaining:    0.0s\n",
      "[Parallel(n_jobs=1)]: Done   3 out of   3 | elapsed:    0.0s finished\n"
     ]
    }
   ],
   "source": [
    "# 성능 지표는 정확도(accuracy), 교차검증(cv) 세트는 5개\n",
    "scores = cross_val_score(dt_clf, iris.data, iris.target, scoring='accuracy',\n",
    "                         cv=3, verbose=2)"
   ]
  },
  {
   "cell_type": "code",
   "execution_count": 186,
   "metadata": {},
   "outputs": [
    {
     "output_type": "stream",
     "name": "stdout",
     "text": [
      "교차 검증별 정확도: [0.98 0.92 1.  ]\n평균 검증 정확도: 0.9667\n"
     ]
    }
   ],
   "source": [
    "print('교차 검증별 정확도:', np.round(scores, 4))\n",
    "print('평균 검증 정확도:', np.round(np.mean(scores), 4))"
   ]
  },
  {
   "cell_type": "code",
   "execution_count": 187,
   "metadata": {},
   "outputs": [
    {
     "output_type": "stream",
     "name": "stdout",
     "text": [
      "교차 검증별 정확도: [0.9667 0.9667 0.9    1.     1.    ]\n평균 검증 정확도: 0.9667\n"
     ]
    }
   ],
   "source": [
    "# 성능 지표는 정확도(accuracy), 교차검증(cv) 세트는 5개\n",
    "scores = cross_val_score(dt_clf, iris.data, iris.target, scoring='accuracy',\n",
    "                         cv=5, verbose=0)\n",
    "print('교차 검증별 정확도:', np.round(scores, 4))\n",
    "print('평균 검증 정확도:', np.round(np.mean(scores), 4))"
   ]
  },
  {
   "cell_type": "code",
   "execution_count": null,
   "metadata": {},
   "outputs": [],
   "source": []
  },
  {
   "source": [
    "### 교차검증, 최적 하이퍼 파라미터 튜닝을 한번에- GridSearchCV ***** "
   ],
   "cell_type": "markdown",
   "metadata": {}
  },
  {
   "cell_type": "code",
   "execution_count": 162,
   "metadata": {},
   "outputs": [
    {
     "output_type": "execute_result",
     "data": {
      "text/plain": [
       "{'ccp_alpha': 0.0,\n",
       " 'class_weight': None,\n",
       " 'criterion': 'gini',\n",
       " 'max_depth': None,\n",
       " 'max_features': None,\n",
       " 'max_leaf_nodes': None,\n",
       " 'min_impurity_decrease': 0.0,\n",
       " 'min_impurity_split': None,\n",
       " 'min_samples_leaf': 1,\n",
       " 'min_samples_split': 2,\n",
       " 'min_weight_fraction_leaf': 0.0,\n",
       " 'random_state': 2021,\n",
       " 'splitter': 'best'}"
      ]
     },
     "metadata": {},
     "execution_count": 162
    }
   ],
   "source": [
    "dt_clf = DecisionTreeClassifier(random_state=2021)\n",
    "dt_clf.get_params()"
   ]
  },
  {
   "cell_type": "code",
   "execution_count": 163,
   "metadata": {},
   "outputs": [],
   "source": [
    "parameters = {\n",
    "    'max_depth':[2,3,4],\n",
    "    'min_samples_split':[2,3]\n",
    "}"
   ]
  },
  {
   "cell_type": "code",
   "execution_count": 164,
   "metadata": {},
   "outputs": [],
   "source": [
    "from sklearn.model_selection import GridSearchCV\n",
    "\n",
    "grid_dtree = GridSearchCV(\n",
    "    dt_clf, param_grid=parameters, scoring='accuracy', cv=3, refit=True\n",
    ")"
   ]
  },
  {
   "cell_type": "code",
   "execution_count": 165,
   "metadata": {},
   "outputs": [
    {
     "output_type": "execute_result",
     "data": {
      "text/plain": [
       "GridSearchCV(cv=3, estimator=DecisionTreeClassifier(random_state=2021),\n",
       "             param_grid={'max_depth': [2, 3, 4], 'min_samples_split': [2, 3]},\n",
       "             scoring='accuracy')"
      ]
     },
     "metadata": {},
     "execution_count": 165
    }
   ],
   "source": [
    "X_train, X_test, y_train, y_test = train_test_split(\n",
    "    iris.data, iris.target, test_size=0.2, random_state=2021\n",
    ")\n",
    "grid_dtree.fit(X_train, y_train)"
   ]
  },
  {
   "cell_type": "code",
   "execution_count": 166,
   "metadata": {},
   "outputs": [
    {
     "output_type": "execute_result",
     "data": {
      "text/plain": [
       "{'mean_fit_time': array([0.00100096, 0.00066686, 0.00100025, 0.00066638, 0.00066566,\n",
       "        0.00100231]),\n",
       " 'std_fit_time': array([8.17216081e-04, 4.71538951e-04, 1.99791671e-06, 4.71203465e-04,\n",
       "        4.70696165e-04, 7.78671819e-07]),\n",
       " 'mean_score_time': array([0.00033267, 0.00066773, 0.00100009, 0.00033307, 0.00033347,\n",
       "        0.00033347]),\n",
       " 'std_score_time': array([4.70471221e-04, 4.72157737e-04, 7.86741172e-07, 4.71033179e-04,\n",
       "        4.71595137e-04, 4.71595137e-04]),\n",
       " 'param_max_depth': masked_array(data=[2, 2, 3, 3, 4, 4],\n",
       "              mask=[False, False, False, False, False, False],\n",
       "        fill_value='?',\n",
       "             dtype=object),\n",
       " 'param_min_samples_split': masked_array(data=[2, 3, 2, 3, 2, 3],\n",
       "              mask=[False, False, False, False, False, False],\n",
       "        fill_value='?',\n",
       "             dtype=object),\n",
       " 'params': [{'max_depth': 2, 'min_samples_split': 2},\n",
       "  {'max_depth': 2, 'min_samples_split': 3},\n",
       "  {'max_depth': 3, 'min_samples_split': 2},\n",
       "  {'max_depth': 3, 'min_samples_split': 3},\n",
       "  {'max_depth': 4, 'min_samples_split': 2},\n",
       "  {'max_depth': 4, 'min_samples_split': 3}],\n",
       " 'split0_test_score': array([0.95, 0.95, 0.95, 0.95, 0.95, 0.95]),\n",
       " 'split1_test_score': array([0.975, 0.975, 0.95 , 0.95 , 0.975, 0.95 ]),\n",
       " 'split2_test_score': array([0.95, 0.95, 0.95, 0.95, 0.95, 0.95]),\n",
       " 'mean_test_score': array([0.95833333, 0.95833333, 0.95      , 0.95      , 0.95833333,\n",
       "        0.95      ]),\n",
       " 'std_test_score': array([1.17851130e-02, 1.17851130e-02, 1.11022302e-16, 1.11022302e-16,\n",
       "        1.17851130e-02, 1.11022302e-16]),\n",
       " 'rank_test_score': array([1, 1, 4, 4, 1, 4])}"
      ]
     },
     "metadata": {},
     "execution_count": 166
    }
   ],
   "source": [
    "grid_dtree.cv_results_"
   ]
  },
  {
   "cell_type": "code",
   "execution_count": 188,
   "metadata": {},
   "outputs": [
    {
     "output_type": "execute_result",
     "data": {
      "text/plain": [
       "                                     params  mean_test_score  rank_test_score  \\\n",
       "0  {'max_depth': 2, 'min_samples_split': 2}         0.958333                1   \n",
       "1  {'max_depth': 2, 'min_samples_split': 3}         0.958333                1   \n",
       "2  {'max_depth': 3, 'min_samples_split': 2}         0.950000                4   \n",
       "3  {'max_depth': 3, 'min_samples_split': 3}         0.950000                4   \n",
       "4  {'max_depth': 4, 'min_samples_split': 2}         0.958333                1   \n",
       "5  {'max_depth': 4, 'min_samples_split': 3}         0.950000                4   \n",
       "\n",
       "   split0_test_score  split1_test_score  split2_test_score  \n",
       "0               0.95              0.975               0.95  \n",
       "1               0.95              0.975               0.95  \n",
       "2               0.95              0.950               0.95  \n",
       "3               0.95              0.950               0.95  \n",
       "4               0.95              0.975               0.95  \n",
       "5               0.95              0.950               0.95  "
      ],
      "text/html": "<div>\n<style scoped>\n    .dataframe tbody tr th:only-of-type {\n        vertical-align: middle;\n    }\n\n    .dataframe tbody tr th {\n        vertical-align: top;\n    }\n\n    .dataframe thead th {\n        text-align: right;\n    }\n</style>\n<table border=\"1\" class=\"dataframe\">\n  <thead>\n    <tr style=\"text-align: right;\">\n      <th></th>\n      <th>params</th>\n      <th>mean_test_score</th>\n      <th>rank_test_score</th>\n      <th>split0_test_score</th>\n      <th>split1_test_score</th>\n      <th>split2_test_score</th>\n    </tr>\n  </thead>\n  <tbody>\n    <tr>\n      <th>0</th>\n      <td>{'max_depth': 2, 'min_samples_split': 2}</td>\n      <td>0.958333</td>\n      <td>1</td>\n      <td>0.95</td>\n      <td>0.975</td>\n      <td>0.95</td>\n    </tr>\n    <tr>\n      <th>1</th>\n      <td>{'max_depth': 2, 'min_samples_split': 3}</td>\n      <td>0.958333</td>\n      <td>1</td>\n      <td>0.95</td>\n      <td>0.975</td>\n      <td>0.95</td>\n    </tr>\n    <tr>\n      <th>2</th>\n      <td>{'max_depth': 3, 'min_samples_split': 2}</td>\n      <td>0.950000</td>\n      <td>4</td>\n      <td>0.95</td>\n      <td>0.950</td>\n      <td>0.95</td>\n    </tr>\n    <tr>\n      <th>3</th>\n      <td>{'max_depth': 3, 'min_samples_split': 3}</td>\n      <td>0.950000</td>\n      <td>4</td>\n      <td>0.95</td>\n      <td>0.950</td>\n      <td>0.95</td>\n    </tr>\n    <tr>\n      <th>4</th>\n      <td>{'max_depth': 4, 'min_samples_split': 2}</td>\n      <td>0.958333</td>\n      <td>1</td>\n      <td>0.95</td>\n      <td>0.975</td>\n      <td>0.95</td>\n    </tr>\n    <tr>\n      <th>5</th>\n      <td>{'max_depth': 4, 'min_samples_split': 3}</td>\n      <td>0.950000</td>\n      <td>4</td>\n      <td>0.95</td>\n      <td>0.950</td>\n      <td>0.95</td>\n    </tr>\n  </tbody>\n</table>\n</div>"
     },
     "metadata": {},
     "execution_count": 188
    }
   ],
   "source": [
    "scores_df = pd.DataFrame(grid_dtree.cv_results_)\n",
    "scores_df[['params', 'mean_test_score', 'rank_test_score',\n",
    "           'split0_test_score', 'split1_test_score', 'split2_test_score']]"
   ]
  },
  {
   "cell_type": "code",
   "execution_count": 168,
   "metadata": {},
   "outputs": [
    {
     "output_type": "execute_result",
     "data": {
      "text/plain": [
       "{'max_depth': 2, 'min_samples_split': 2}"
      ]
     },
     "metadata": {},
     "execution_count": 168
    }
   ],
   "source": [
    "# 최적의 파라미터\n",
    "grid_dtree.best_params_"
   ]
  },
  {
   "cell_type": "code",
   "execution_count": 169,
   "metadata": {},
   "outputs": [
    {
     "output_type": "execute_result",
     "data": {
      "text/plain": [
       "0.9583333333333334"
      ]
     },
     "metadata": {},
     "execution_count": 169
    }
   ],
   "source": [
    "# 최고 정확도\n",
    "grid_dtree.best_score_"
   ]
  },
  {
   "cell_type": "code",
   "execution_count": 170,
   "metadata": {},
   "outputs": [],
   "source": [
    "# GridSearchCV의 베스트 모델\n",
    "estimator = grid_dtree.best_estimator_"
   ]
  },
  {
   "cell_type": "code",
   "execution_count": 189,
   "metadata": {},
   "outputs": [
    {
     "output_type": "execute_result",
     "data": {
      "text/plain": [
       "0.9"
      ]
     },
     "metadata": {},
     "execution_count": 189
    }
   ],
   "source": [
    "# estimator \n",
    "pred = estimator.predict(X_test)\n",
    "accuracy_score(y_test, pred)"
   ]
  },
  {
   "cell_type": "code",
   "execution_count": null,
   "metadata": {},
   "outputs": [],
   "source": []
  }
 ]
}